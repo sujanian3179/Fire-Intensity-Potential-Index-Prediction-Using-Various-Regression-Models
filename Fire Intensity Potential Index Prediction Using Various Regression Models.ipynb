{
 "cells": [
  {
   "cell_type": "code",
   "execution_count": 917,
   "id": "a242e2c7",
   "metadata": {},
   "outputs": [
    {
     "name": "stdout",
     "output_type": "stream",
     "text": [
      "Package Imported\n"
     ]
    }
   ],
   "source": [
    "import numpy as np\n",
    "import pandas as pd\n",
    "import seaborn as sns\n",
    "import matplotlib.pyplot as plt\n",
    "%matplotlib inline\n",
    "from sklearn.model_selection import train_test_split\n",
    "from sklearn.preprocessing import StandardScaler\n",
    "from sklearn.linear_model import LinearRegression\n",
    "from sklearn.metrics import r2_score, mean_squared_error\n",
    "from sklearn.linear_model import Lasso\n",
    "from sklearn.linear_model import LassoCV\n",
    "from sklearn.linear_model import ElasticNet\n",
    "from sklearn.linear_model import RidgeCV\n",
    "print('Package Imported')"
   ]
  },
  {
   "cell_type": "markdown",
   "id": "e056bc89",
   "metadata": {},
   "source": [
    "### Data"
   ]
  },
  {
   "cell_type": "code",
   "execution_count": 918,
   "id": "cba5c6fc",
   "metadata": {},
   "outputs": [
    {
     "data": {
      "text/html": [
       "<div>\n",
       "<style scoped>\n",
       "    .dataframe tbody tr th:only-of-type {\n",
       "        vertical-align: middle;\n",
       "    }\n",
       "\n",
       "    .dataframe tbody tr th {\n",
       "        vertical-align: top;\n",
       "    }\n",
       "\n",
       "    .dataframe thead th {\n",
       "        text-align: right;\n",
       "    }\n",
       "</style>\n",
       "<table border=\"1\" class=\"dataframe\">\n",
       "  <thead>\n",
       "    <tr style=\"text-align: right;\">\n",
       "      <th></th>\n",
       "      <th>day</th>\n",
       "      <th>month</th>\n",
       "      <th>year</th>\n",
       "      <th>Temperature</th>\n",
       "      <th>RH</th>\n",
       "      <th>Ws</th>\n",
       "      <th>Rain</th>\n",
       "      <th>FFMC</th>\n",
       "      <th>DMC</th>\n",
       "      <th>DC</th>\n",
       "      <th>ISI</th>\n",
       "      <th>BUI</th>\n",
       "      <th>FWI</th>\n",
       "      <th>Classes</th>\n",
       "    </tr>\n",
       "  </thead>\n",
       "  <tbody>\n",
       "    <tr>\n",
       "      <th>0</th>\n",
       "      <td>1</td>\n",
       "      <td>6</td>\n",
       "      <td>2012</td>\n",
       "      <td>29</td>\n",
       "      <td>57</td>\n",
       "      <td>18</td>\n",
       "      <td>0.0</td>\n",
       "      <td>65.7</td>\n",
       "      <td>3.4</td>\n",
       "      <td>7.6</td>\n",
       "      <td>1.3</td>\n",
       "      <td>3.4</td>\n",
       "      <td>0.5</td>\n",
       "      <td>not fire</td>\n",
       "    </tr>\n",
       "    <tr>\n",
       "      <th>1</th>\n",
       "      <td>2</td>\n",
       "      <td>6</td>\n",
       "      <td>2012</td>\n",
       "      <td>29</td>\n",
       "      <td>61</td>\n",
       "      <td>13</td>\n",
       "      <td>1.3</td>\n",
       "      <td>64.4</td>\n",
       "      <td>4.1</td>\n",
       "      <td>7.6</td>\n",
       "      <td>1.0</td>\n",
       "      <td>3.9</td>\n",
       "      <td>0.4</td>\n",
       "      <td>not fire</td>\n",
       "    </tr>\n",
       "    <tr>\n",
       "      <th>2</th>\n",
       "      <td>3</td>\n",
       "      <td>6</td>\n",
       "      <td>2012</td>\n",
       "      <td>26</td>\n",
       "      <td>82</td>\n",
       "      <td>22</td>\n",
       "      <td>13.1</td>\n",
       "      <td>47.1</td>\n",
       "      <td>2.5</td>\n",
       "      <td>7.1</td>\n",
       "      <td>0.3</td>\n",
       "      <td>2.7</td>\n",
       "      <td>0.1</td>\n",
       "      <td>not fire</td>\n",
       "    </tr>\n",
       "    <tr>\n",
       "      <th>3</th>\n",
       "      <td>4</td>\n",
       "      <td>6</td>\n",
       "      <td>2012</td>\n",
       "      <td>25</td>\n",
       "      <td>89</td>\n",
       "      <td>13</td>\n",
       "      <td>2.5</td>\n",
       "      <td>28.6</td>\n",
       "      <td>1.3</td>\n",
       "      <td>6.9</td>\n",
       "      <td>0.0</td>\n",
       "      <td>1.7</td>\n",
       "      <td>0</td>\n",
       "      <td>not fire</td>\n",
       "    </tr>\n",
       "  </tbody>\n",
       "</table>\n",
       "</div>"
      ],
      "text/plain": [
       "   day  month  year  Temperature   RH   Ws  Rain   FFMC  DMC   DC  ISI  BUI  \\\n",
       "0    1      6  2012           29   57   18    0.0  65.7  3.4  7.6  1.3  3.4   \n",
       "1    2      6  2012           29   61   13    1.3  64.4  4.1  7.6  1.0  3.9   \n",
       "2    3      6  2012           26   82   22   13.1  47.1  2.5  7.1  0.3  2.7   \n",
       "3    4      6  2012           25   89   13    2.5  28.6  1.3  6.9  0.0  1.7   \n",
       "\n",
       "   FWI    Classes    \n",
       "0  0.5  not fire     \n",
       "1  0.4  not fire     \n",
       "2  0.1  not fire     \n",
       "3    0  not fire     "
      ]
     },
     "execution_count": 918,
     "metadata": {},
     "output_type": "execute_result"
    }
   ],
   "source": [
    "df=pd.read_csv('algerian_forest_fires_dataset.csv',header=1)\n",
    "df.head(4)"
   ]
  },
  {
   "cell_type": "markdown",
   "id": "cec9a966",
   "metadata": {},
   "source": [
    "# We will be predicting the temprature. Hence our temprature will be a output feature and rest all will be a input feature"
   ]
  },
  {
   "cell_type": "markdown",
   "id": "933e9f1e",
   "metadata": {},
   "source": [
    "### Data cleaning & EDA"
   ]
  },
  {
   "cell_type": "code",
   "execution_count": 919,
   "id": "17cabfe4",
   "metadata": {},
   "outputs": [
    {
     "name": "stdout",
     "output_type": "stream",
     "text": [
      "<class 'pandas.core.frame.DataFrame'>\n",
      "RangeIndex: 244 entries, 0 to 243\n",
      "Data columns (total 14 columns):\n",
      " #   Column       Non-Null Count  Dtype  \n",
      "---  ------       --------------  -----  \n",
      " 0   day          244 non-null    int64  \n",
      " 1   month        244 non-null    int64  \n",
      " 2   year         244 non-null    int64  \n",
      " 3   Temperature  244 non-null    int64  \n",
      " 4    RH          244 non-null    int64  \n",
      " 5    Ws          244 non-null    int64  \n",
      " 6   Rain         244 non-null    float64\n",
      " 7   FFMC         244 non-null    float64\n",
      " 8   DMC          244 non-null    float64\n",
      " 9   DC           244 non-null    object \n",
      " 10  ISI          244 non-null    float64\n",
      " 11  BUI          244 non-null    float64\n",
      " 12  FWI          244 non-null    object \n",
      " 13  Classes      243 non-null    object \n",
      "dtypes: float64(5), int64(6), object(3)\n",
      "memory usage: 26.8+ KB\n"
     ]
    }
   ],
   "source": [
    "df.info()"
   ]
  },
  {
   "cell_type": "code",
   "execution_count": 920,
   "id": "fb0c114e",
   "metadata": {},
   "outputs": [
    {
     "data": {
      "text/html": [
       "<div>\n",
       "<style scoped>\n",
       "    .dataframe tbody tr th:only-of-type {\n",
       "        vertical-align: middle;\n",
       "    }\n",
       "\n",
       "    .dataframe tbody tr th {\n",
       "        vertical-align: top;\n",
       "    }\n",
       "\n",
       "    .dataframe thead th {\n",
       "        text-align: right;\n",
       "    }\n",
       "</style>\n",
       "<table border=\"1\" class=\"dataframe\">\n",
       "  <thead>\n",
       "    <tr style=\"text-align: right;\">\n",
       "      <th></th>\n",
       "      <th>day</th>\n",
       "      <th>month</th>\n",
       "      <th>year</th>\n",
       "      <th>Temperature</th>\n",
       "      <th>RH</th>\n",
       "      <th>Ws</th>\n",
       "      <th>Rain</th>\n",
       "      <th>FFMC</th>\n",
       "      <th>DMC</th>\n",
       "      <th>DC</th>\n",
       "      <th>ISI</th>\n",
       "      <th>BUI</th>\n",
       "      <th>FWI</th>\n",
       "      <th>Classes</th>\n",
       "    </tr>\n",
       "  </thead>\n",
       "  <tbody>\n",
       "    <tr>\n",
       "      <th>165</th>\n",
       "      <td>14</td>\n",
       "      <td>7</td>\n",
       "      <td>2012</td>\n",
       "      <td>37</td>\n",
       "      <td>37</td>\n",
       "      <td>18</td>\n",
       "      <td>0.2</td>\n",
       "      <td>88.9</td>\n",
       "      <td>12.9</td>\n",
       "      <td>14.6 9</td>\n",
       "      <td>12.5</td>\n",
       "      <td>10.4</td>\n",
       "      <td>fire</td>\n",
       "      <td>NaN</td>\n",
       "    </tr>\n",
       "  </tbody>\n",
       "</table>\n",
       "</div>"
      ],
      "text/plain": [
       "     day  month  year  Temperature   RH   Ws  Rain   FFMC   DMC      DC   ISI  \\\n",
       "165   14      7  2012           37   37   18    0.2  88.9  12.9  14.6 9  12.5   \n",
       "\n",
       "      BUI      FWI Classes    \n",
       "165  10.4  fire          NaN  "
      ]
     },
     "execution_count": 920,
     "metadata": {},
     "output_type": "execute_result"
    }
   ],
   "source": [
    "df[df.isnull().any(axis=1)]"
   ]
  },
  {
   "cell_type": "markdown",
   "id": "7c3c4f4f",
   "metadata": {},
   "source": [
    "#### The dataset that we are having is for two region, from 0-121, it is for one region and from 122 onwars, it is for another region. Hence we will make a new column called class to divide the data set into 0 and 1"
   ]
  },
  {
   "cell_type": "code",
   "execution_count": 921,
   "id": "acf972b8",
   "metadata": {},
   "outputs": [
    {
     "data": {
      "text/plain": [
       "(244, 14)"
      ]
     },
     "execution_count": 921,
     "metadata": {},
     "output_type": "execute_result"
    }
   ],
   "source": [
    "df.shape"
   ]
  },
  {
   "cell_type": "code",
   "execution_count": 922,
   "id": "5a308e74",
   "metadata": {},
   "outputs": [
    {
     "data": {
      "text/html": [
       "<div>\n",
       "<style scoped>\n",
       "    .dataframe tbody tr th:only-of-type {\n",
       "        vertical-align: middle;\n",
       "    }\n",
       "\n",
       "    .dataframe tbody tr th {\n",
       "        vertical-align: top;\n",
       "    }\n",
       "\n",
       "    .dataframe thead th {\n",
       "        text-align: right;\n",
       "    }\n",
       "</style>\n",
       "<table border=\"1\" class=\"dataframe\">\n",
       "  <thead>\n",
       "    <tr style=\"text-align: right;\">\n",
       "      <th></th>\n",
       "      <th>day</th>\n",
       "      <th>month</th>\n",
       "      <th>year</th>\n",
       "      <th>Temperature</th>\n",
       "      <th>RH</th>\n",
       "      <th>Ws</th>\n",
       "      <th>Rain</th>\n",
       "      <th>FFMC</th>\n",
       "      <th>DMC</th>\n",
       "      <th>DC</th>\n",
       "      <th>ISI</th>\n",
       "      <th>BUI</th>\n",
       "      <th>FWI</th>\n",
       "      <th>Classes</th>\n",
       "      <th>region</th>\n",
       "    </tr>\n",
       "  </thead>\n",
       "  <tbody>\n",
       "    <tr>\n",
       "      <th>0</th>\n",
       "      <td>1</td>\n",
       "      <td>6</td>\n",
       "      <td>2012</td>\n",
       "      <td>29</td>\n",
       "      <td>57</td>\n",
       "      <td>18</td>\n",
       "      <td>0.0</td>\n",
       "      <td>65.7</td>\n",
       "      <td>3.4</td>\n",
       "      <td>7.6</td>\n",
       "      <td>1.3</td>\n",
       "      <td>3.4</td>\n",
       "      <td>0.5</td>\n",
       "      <td>not fire</td>\n",
       "      <td>0</td>\n",
       "    </tr>\n",
       "    <tr>\n",
       "      <th>1</th>\n",
       "      <td>2</td>\n",
       "      <td>6</td>\n",
       "      <td>2012</td>\n",
       "      <td>29</td>\n",
       "      <td>61</td>\n",
       "      <td>13</td>\n",
       "      <td>1.3</td>\n",
       "      <td>64.4</td>\n",
       "      <td>4.1</td>\n",
       "      <td>7.6</td>\n",
       "      <td>1.0</td>\n",
       "      <td>3.9</td>\n",
       "      <td>0.4</td>\n",
       "      <td>not fire</td>\n",
       "      <td>0</td>\n",
       "    </tr>\n",
       "    <tr>\n",
       "      <th>2</th>\n",
       "      <td>3</td>\n",
       "      <td>6</td>\n",
       "      <td>2012</td>\n",
       "      <td>26</td>\n",
       "      <td>82</td>\n",
       "      <td>22</td>\n",
       "      <td>13.1</td>\n",
       "      <td>47.1</td>\n",
       "      <td>2.5</td>\n",
       "      <td>7.1</td>\n",
       "      <td>0.3</td>\n",
       "      <td>2.7</td>\n",
       "      <td>0.1</td>\n",
       "      <td>not fire</td>\n",
       "      <td>0</td>\n",
       "    </tr>\n",
       "    <tr>\n",
       "      <th>3</th>\n",
       "      <td>4</td>\n",
       "      <td>6</td>\n",
       "      <td>2012</td>\n",
       "      <td>25</td>\n",
       "      <td>89</td>\n",
       "      <td>13</td>\n",
       "      <td>2.5</td>\n",
       "      <td>28.6</td>\n",
       "      <td>1.3</td>\n",
       "      <td>6.9</td>\n",
       "      <td>0.0</td>\n",
       "      <td>1.7</td>\n",
       "      <td>0</td>\n",
       "      <td>not fire</td>\n",
       "      <td>0</td>\n",
       "    </tr>\n",
       "    <tr>\n",
       "      <th>4</th>\n",
       "      <td>5</td>\n",
       "      <td>6</td>\n",
       "      <td>2012</td>\n",
       "      <td>27</td>\n",
       "      <td>77</td>\n",
       "      <td>16</td>\n",
       "      <td>0.0</td>\n",
       "      <td>64.8</td>\n",
       "      <td>3.0</td>\n",
       "      <td>14.2</td>\n",
       "      <td>1.2</td>\n",
       "      <td>3.9</td>\n",
       "      <td>0.5</td>\n",
       "      <td>not fire</td>\n",
       "      <td>0</td>\n",
       "    </tr>\n",
       "    <tr>\n",
       "      <th>...</th>\n",
       "      <td>...</td>\n",
       "      <td>...</td>\n",
       "      <td>...</td>\n",
       "      <td>...</td>\n",
       "      <td>...</td>\n",
       "      <td>...</td>\n",
       "      <td>...</td>\n",
       "      <td>...</td>\n",
       "      <td>...</td>\n",
       "      <td>...</td>\n",
       "      <td>...</td>\n",
       "      <td>...</td>\n",
       "      <td>...</td>\n",
       "      <td>...</td>\n",
       "      <td>...</td>\n",
       "    </tr>\n",
       "    <tr>\n",
       "      <th>117</th>\n",
       "      <td>26</td>\n",
       "      <td>9</td>\n",
       "      <td>2012</td>\n",
       "      <td>31</td>\n",
       "      <td>54</td>\n",
       "      <td>11</td>\n",
       "      <td>0.0</td>\n",
       "      <td>82.0</td>\n",
       "      <td>6.0</td>\n",
       "      <td>16.3</td>\n",
       "      <td>2.5</td>\n",
       "      <td>6.2</td>\n",
       "      <td>1.7</td>\n",
       "      <td>not fire</td>\n",
       "      <td>0</td>\n",
       "    </tr>\n",
       "    <tr>\n",
       "      <th>118</th>\n",
       "      <td>27</td>\n",
       "      <td>9</td>\n",
       "      <td>2012</td>\n",
       "      <td>31</td>\n",
       "      <td>66</td>\n",
       "      <td>11</td>\n",
       "      <td>0.0</td>\n",
       "      <td>85.7</td>\n",
       "      <td>8.3</td>\n",
       "      <td>24.9</td>\n",
       "      <td>4.0</td>\n",
       "      <td>9.0</td>\n",
       "      <td>4.1</td>\n",
       "      <td>fire</td>\n",
       "      <td>0</td>\n",
       "    </tr>\n",
       "    <tr>\n",
       "      <th>119</th>\n",
       "      <td>28</td>\n",
       "      <td>9</td>\n",
       "      <td>2012</td>\n",
       "      <td>32</td>\n",
       "      <td>47</td>\n",
       "      <td>14</td>\n",
       "      <td>0.7</td>\n",
       "      <td>77.5</td>\n",
       "      <td>7.1</td>\n",
       "      <td>8.8</td>\n",
       "      <td>1.8</td>\n",
       "      <td>6.8</td>\n",
       "      <td>0.9</td>\n",
       "      <td>not fire</td>\n",
       "      <td>0</td>\n",
       "    </tr>\n",
       "    <tr>\n",
       "      <th>120</th>\n",
       "      <td>29</td>\n",
       "      <td>9</td>\n",
       "      <td>2012</td>\n",
       "      <td>26</td>\n",
       "      <td>80</td>\n",
       "      <td>16</td>\n",
       "      <td>1.8</td>\n",
       "      <td>47.4</td>\n",
       "      <td>2.9</td>\n",
       "      <td>7.7</td>\n",
       "      <td>0.3</td>\n",
       "      <td>3.0</td>\n",
       "      <td>0.1</td>\n",
       "      <td>not fire</td>\n",
       "      <td>0</td>\n",
       "    </tr>\n",
       "    <tr>\n",
       "      <th>121</th>\n",
       "      <td>30</td>\n",
       "      <td>9</td>\n",
       "      <td>2012</td>\n",
       "      <td>25</td>\n",
       "      <td>78</td>\n",
       "      <td>14</td>\n",
       "      <td>1.4</td>\n",
       "      <td>45.0</td>\n",
       "      <td>1.9</td>\n",
       "      <td>7.5</td>\n",
       "      <td>0.2</td>\n",
       "      <td>2.4</td>\n",
       "      <td>0.1</td>\n",
       "      <td>not fire</td>\n",
       "      <td>0</td>\n",
       "    </tr>\n",
       "  </tbody>\n",
       "</table>\n",
       "<p>122 rows × 15 columns</p>\n",
       "</div>"
      ],
      "text/plain": [
       "     day  month  year  Temperature   RH   Ws  Rain   FFMC  DMC    DC  ISI  \\\n",
       "0      1      6  2012           29   57   18    0.0  65.7  3.4   7.6  1.3   \n",
       "1      2      6  2012           29   61   13    1.3  64.4  4.1   7.6  1.0   \n",
       "2      3      6  2012           26   82   22   13.1  47.1  2.5   7.1  0.3   \n",
       "3      4      6  2012           25   89   13    2.5  28.6  1.3   6.9  0.0   \n",
       "4      5      6  2012           27   77   16    0.0  64.8  3.0  14.2  1.2   \n",
       "..   ...    ...   ...          ...  ...  ...    ...   ...  ...   ...  ...   \n",
       "117   26      9  2012           31   54   11    0.0  82.0  6.0  16.3  2.5   \n",
       "118   27      9  2012           31   66   11    0.0  85.7  8.3  24.9  4.0   \n",
       "119   28      9  2012           32   47   14    0.7  77.5  7.1   8.8  1.8   \n",
       "120   29      9  2012           26   80   16    1.8  47.4  2.9   7.7  0.3   \n",
       "121   30      9  2012           25   78   14    1.4  45.0  1.9   7.5  0.2   \n",
       "\n",
       "     BUI  FWI     Classes    region  \n",
       "0    3.4  0.5   not fire          0  \n",
       "1    3.9  0.4   not fire          0  \n",
       "2    2.7  0.1   not fire          0  \n",
       "3    1.7    0   not fire          0  \n",
       "4    3.9  0.5   not fire          0  \n",
       "..   ...  ...           ...     ...  \n",
       "117  6.2  1.7   not fire          0  \n",
       "118  9.0  4.1       fire          0  \n",
       "119  6.8  0.9   not fire          0  \n",
       "120  3.0  0.1   not fire          0  \n",
       "121  2.4  0.1  not fire           0  \n",
       "\n",
       "[122 rows x 15 columns]"
      ]
     },
     "execution_count": 922,
     "metadata": {},
     "output_type": "execute_result"
    }
   ],
   "source": [
    "class1 = []\n",
    "a = 0\n",
    "b = 1\n",
    "for i in range(len(df)):\n",
    "    if i < 122:\n",
    "        class1.append(a)\n",
    "    else:\n",
    "        class1.append(b)\n",
    "region=np.array(class1)\n",
    "df[\"region\"]=region\n",
    "df[df[\"region\"]==0]"
   ]
  },
  {
   "cell_type": "code",
   "execution_count": 923,
   "id": "eca90644",
   "metadata": {},
   "outputs": [
    {
     "name": "stdout",
     "output_type": "stream",
     "text": [
      "<class 'pandas.core.frame.DataFrame'>\n",
      "RangeIndex: 244 entries, 0 to 243\n",
      "Data columns (total 15 columns):\n",
      " #   Column       Non-Null Count  Dtype  \n",
      "---  ------       --------------  -----  \n",
      " 0   day          244 non-null    int64  \n",
      " 1   month        244 non-null    int64  \n",
      " 2   year         244 non-null    int64  \n",
      " 3   Temperature  244 non-null    int64  \n",
      " 4    RH          244 non-null    int64  \n",
      " 5    Ws          244 non-null    int64  \n",
      " 6   Rain         244 non-null    float64\n",
      " 7   FFMC         244 non-null    float64\n",
      " 8   DMC          244 non-null    float64\n",
      " 9   DC           244 non-null    object \n",
      " 10  ISI          244 non-null    float64\n",
      " 11  BUI          244 non-null    float64\n",
      " 12  FWI          244 non-null    object \n",
      " 13  Classes      243 non-null    object \n",
      " 14  region       244 non-null    int32  \n",
      "dtypes: float64(5), int32(1), int64(6), object(3)\n",
      "memory usage: 27.8+ KB\n"
     ]
    }
   ],
   "source": [
    "df[\"region\"]=df[\"region\"].astype(int)\n",
    "df.info()"
   ]
  },
  {
   "cell_type": "markdown",
   "id": "3b279209",
   "metadata": {},
   "source": [
    "### Only one row was having some Nan value in it. Hence dropping that row"
   ]
  },
  {
   "cell_type": "code",
   "execution_count": 924,
   "id": "6c616ab2",
   "metadata": {},
   "outputs": [
    {
     "data": {
      "text/html": [
       "<div>\n",
       "<style scoped>\n",
       "    .dataframe tbody tr th:only-of-type {\n",
       "        vertical-align: middle;\n",
       "    }\n",
       "\n",
       "    .dataframe tbody tr th {\n",
       "        vertical-align: top;\n",
       "    }\n",
       "\n",
       "    .dataframe thead th {\n",
       "        text-align: right;\n",
       "    }\n",
       "</style>\n",
       "<table border=\"1\" class=\"dataframe\">\n",
       "  <thead>\n",
       "    <tr style=\"text-align: right;\">\n",
       "      <th></th>\n",
       "      <th>day</th>\n",
       "      <th>month</th>\n",
       "      <th>year</th>\n",
       "      <th>Temperature</th>\n",
       "      <th>RH</th>\n",
       "      <th>Ws</th>\n",
       "      <th>Rain</th>\n",
       "      <th>FFMC</th>\n",
       "      <th>DMC</th>\n",
       "      <th>DC</th>\n",
       "      <th>ISI</th>\n",
       "      <th>BUI</th>\n",
       "      <th>FWI</th>\n",
       "      <th>Classes</th>\n",
       "      <th>region</th>\n",
       "    </tr>\n",
       "  </thead>\n",
       "  <tbody>\n",
       "  </tbody>\n",
       "</table>\n",
       "</div>"
      ],
      "text/plain": [
       "Empty DataFrame\n",
       "Columns: [day, month, year, Temperature,  RH,  Ws, Rain , FFMC, DMC, DC, ISI, BUI, FWI, Classes  , region]\n",
       "Index: []"
      ]
     },
     "execution_count": 924,
     "metadata": {},
     "output_type": "execute_result"
    }
   ],
   "source": [
    "df=df.dropna().reset_index(drop=True)\n",
    "df[df.isna().any(axis=1)]"
   ]
  },
  {
   "cell_type": "code",
   "execution_count": 925,
   "id": "5adba301",
   "metadata": {},
   "outputs": [
    {
     "data": {
      "text/plain": [
       "Index(['day', 'month', 'year', 'Temperature', ' RH', ' Ws', 'Rain ', 'FFMC',\n",
       "       'DMC', 'DC', 'ISI', 'BUI', 'FWI', 'Classes  ', 'region'],\n",
       "      dtype='object')"
      ]
     },
     "execution_count": 925,
     "metadata": {},
     "output_type": "execute_result"
    }
   ],
   "source": [
    "df.columns"
   ]
  },
  {
   "cell_type": "code",
   "execution_count": 926,
   "id": "c8c2d8be",
   "metadata": {},
   "outputs": [
    {
     "data": {
      "text/plain": [
       "Index(['day', 'month', 'year', 'Temperature', 'RH', 'Ws', 'Rain', 'FFMC',\n",
       "       'DMC', 'DC', 'ISI', 'BUI', 'FWI', 'Classes', 'region'],\n",
       "      dtype='object')"
      ]
     },
     "execution_count": 926,
     "metadata": {},
     "output_type": "execute_result"
    }
   ],
   "source": [
    "df.columns=df.columns.str.strip()\n",
    "df.columns"
   ]
  },
  {
   "cell_type": "markdown",
   "id": "04464c9c",
   "metadata": {},
   "source": [
    "### Data Type Conversion"
   ]
  },
  {
   "cell_type": "code",
   "execution_count": 927,
   "id": "f79ad59e",
   "metadata": {},
   "outputs": [],
   "source": [
    "df[['day', 'month', 'year', 'Temperature', 'RH', 'Ws']]=df[['day', 'month', 'year', 'Temperature', 'RH', 'Ws']].astype(int) "
   ]
  },
  {
   "cell_type": "code",
   "execution_count": 928,
   "id": "83af0eaa",
   "metadata": {},
   "outputs": [
    {
     "data": {
      "text/plain": [
       "['DC', 'FWI', 'Classes']"
      ]
     },
     "execution_count": 928,
     "metadata": {},
     "output_type": "execute_result"
    }
   ],
   "source": [
    "objects= [features for features in df.columns if df[features].dtypes =='O']\n",
    "objects"
   ]
  },
  {
   "cell_type": "code",
   "execution_count": 929,
   "id": "da3d90a4",
   "metadata": {},
   "outputs": [],
   "source": [
    "for i in objects:\n",
    "    if i != 'Classes':\n",
    "        df[i]=df[i].astype(float)"
   ]
  },
  {
   "cell_type": "code",
   "execution_count": 930,
   "id": "068b3337",
   "metadata": {},
   "outputs": [
    {
     "name": "stdout",
     "output_type": "stream",
     "text": [
      "<class 'pandas.core.frame.DataFrame'>\n",
      "RangeIndex: 243 entries, 0 to 242\n",
      "Data columns (total 15 columns):\n",
      " #   Column       Non-Null Count  Dtype  \n",
      "---  ------       --------------  -----  \n",
      " 0   day          243 non-null    int32  \n",
      " 1   month        243 non-null    int32  \n",
      " 2   year         243 non-null    int32  \n",
      " 3   Temperature  243 non-null    int32  \n",
      " 4   RH           243 non-null    int32  \n",
      " 5   Ws           243 non-null    int32  \n",
      " 6   Rain         243 non-null    float64\n",
      " 7   FFMC         243 non-null    float64\n",
      " 8   DMC          243 non-null    float64\n",
      " 9   DC           243 non-null    float64\n",
      " 10  ISI          243 non-null    float64\n",
      " 11  BUI          243 non-null    float64\n",
      " 12  FWI          243 non-null    float64\n",
      " 13  Classes      243 non-null    object \n",
      " 14  region       243 non-null    int32  \n",
      "dtypes: float64(7), int32(7), object(1)\n",
      "memory usage: 22.0+ KB\n"
     ]
    }
   ],
   "source": [
    "df.info()"
   ]
  },
  {
   "cell_type": "markdown",
   "id": "a4cb86fb",
   "metadata": {},
   "source": [
    "### Saving cleaned data to csv"
   ]
  },
  {
   "cell_type": "code",
   "execution_count": 931,
   "id": "247731ea",
   "metadata": {},
   "outputs": [],
   "source": [
    "df.to_csv('algerian_forest_cleaned.csv')"
   ]
  },
  {
   "cell_type": "markdown",
   "id": "e777a085",
   "metadata": {},
   "source": [
    "### Droping the un necessary columns"
   ]
  },
  {
   "cell_type": "code",
   "execution_count": 932,
   "id": "67f02fe5",
   "metadata": {},
   "outputs": [
    {
     "data": {
      "text/html": [
       "<div>\n",
       "<style scoped>\n",
       "    .dataframe tbody tr th:only-of-type {\n",
       "        vertical-align: middle;\n",
       "    }\n",
       "\n",
       "    .dataframe tbody tr th {\n",
       "        vertical-align: top;\n",
       "    }\n",
       "\n",
       "    .dataframe thead th {\n",
       "        text-align: right;\n",
       "    }\n",
       "</style>\n",
       "<table border=\"1\" class=\"dataframe\">\n",
       "  <thead>\n",
       "    <tr style=\"text-align: right;\">\n",
       "      <th></th>\n",
       "      <th>Temperature</th>\n",
       "      <th>RH</th>\n",
       "      <th>Ws</th>\n",
       "      <th>Rain</th>\n",
       "      <th>FFMC</th>\n",
       "      <th>DMC</th>\n",
       "      <th>DC</th>\n",
       "      <th>ISI</th>\n",
       "      <th>BUI</th>\n",
       "      <th>FWI</th>\n",
       "      <th>Classes</th>\n",
       "      <th>region</th>\n",
       "    </tr>\n",
       "  </thead>\n",
       "  <tbody>\n",
       "    <tr>\n",
       "      <th>0</th>\n",
       "      <td>29</td>\n",
       "      <td>57</td>\n",
       "      <td>18</td>\n",
       "      <td>0.0</td>\n",
       "      <td>65.7</td>\n",
       "      <td>3.4</td>\n",
       "      <td>7.6</td>\n",
       "      <td>1.3</td>\n",
       "      <td>3.4</td>\n",
       "      <td>0.5</td>\n",
       "      <td>not fire</td>\n",
       "      <td>0</td>\n",
       "    </tr>\n",
       "    <tr>\n",
       "      <th>1</th>\n",
       "      <td>29</td>\n",
       "      <td>61</td>\n",
       "      <td>13</td>\n",
       "      <td>1.3</td>\n",
       "      <td>64.4</td>\n",
       "      <td>4.1</td>\n",
       "      <td>7.6</td>\n",
       "      <td>1.0</td>\n",
       "      <td>3.9</td>\n",
       "      <td>0.4</td>\n",
       "      <td>not fire</td>\n",
       "      <td>0</td>\n",
       "    </tr>\n",
       "    <tr>\n",
       "      <th>2</th>\n",
       "      <td>26</td>\n",
       "      <td>82</td>\n",
       "      <td>22</td>\n",
       "      <td>13.1</td>\n",
       "      <td>47.1</td>\n",
       "      <td>2.5</td>\n",
       "      <td>7.1</td>\n",
       "      <td>0.3</td>\n",
       "      <td>2.7</td>\n",
       "      <td>0.1</td>\n",
       "      <td>not fire</td>\n",
       "      <td>0</td>\n",
       "    </tr>\n",
       "    <tr>\n",
       "      <th>3</th>\n",
       "      <td>25</td>\n",
       "      <td>89</td>\n",
       "      <td>13</td>\n",
       "      <td>2.5</td>\n",
       "      <td>28.6</td>\n",
       "      <td>1.3</td>\n",
       "      <td>6.9</td>\n",
       "      <td>0.0</td>\n",
       "      <td>1.7</td>\n",
       "      <td>0.0</td>\n",
       "      <td>not fire</td>\n",
       "      <td>0</td>\n",
       "    </tr>\n",
       "    <tr>\n",
       "      <th>4</th>\n",
       "      <td>27</td>\n",
       "      <td>77</td>\n",
       "      <td>16</td>\n",
       "      <td>0.0</td>\n",
       "      <td>64.8</td>\n",
       "      <td>3.0</td>\n",
       "      <td>14.2</td>\n",
       "      <td>1.2</td>\n",
       "      <td>3.9</td>\n",
       "      <td>0.5</td>\n",
       "      <td>not fire</td>\n",
       "      <td>0</td>\n",
       "    </tr>\n",
       "    <tr>\n",
       "      <th>...</th>\n",
       "      <td>...</td>\n",
       "      <td>...</td>\n",
       "      <td>...</td>\n",
       "      <td>...</td>\n",
       "      <td>...</td>\n",
       "      <td>...</td>\n",
       "      <td>...</td>\n",
       "      <td>...</td>\n",
       "      <td>...</td>\n",
       "      <td>...</td>\n",
       "      <td>...</td>\n",
       "      <td>...</td>\n",
       "    </tr>\n",
       "    <tr>\n",
       "      <th>238</th>\n",
       "      <td>30</td>\n",
       "      <td>65</td>\n",
       "      <td>14</td>\n",
       "      <td>0.0</td>\n",
       "      <td>85.4</td>\n",
       "      <td>16.0</td>\n",
       "      <td>44.5</td>\n",
       "      <td>4.5</td>\n",
       "      <td>16.9</td>\n",
       "      <td>6.5</td>\n",
       "      <td>fire</td>\n",
       "      <td>1</td>\n",
       "    </tr>\n",
       "    <tr>\n",
       "      <th>239</th>\n",
       "      <td>28</td>\n",
       "      <td>87</td>\n",
       "      <td>15</td>\n",
       "      <td>4.4</td>\n",
       "      <td>41.1</td>\n",
       "      <td>6.5</td>\n",
       "      <td>8.0</td>\n",
       "      <td>0.1</td>\n",
       "      <td>6.2</td>\n",
       "      <td>0.0</td>\n",
       "      <td>not fire</td>\n",
       "      <td>1</td>\n",
       "    </tr>\n",
       "    <tr>\n",
       "      <th>240</th>\n",
       "      <td>27</td>\n",
       "      <td>87</td>\n",
       "      <td>29</td>\n",
       "      <td>0.5</td>\n",
       "      <td>45.9</td>\n",
       "      <td>3.5</td>\n",
       "      <td>7.9</td>\n",
       "      <td>0.4</td>\n",
       "      <td>3.4</td>\n",
       "      <td>0.2</td>\n",
       "      <td>not fire</td>\n",
       "      <td>1</td>\n",
       "    </tr>\n",
       "    <tr>\n",
       "      <th>241</th>\n",
       "      <td>24</td>\n",
       "      <td>54</td>\n",
       "      <td>18</td>\n",
       "      <td>0.1</td>\n",
       "      <td>79.7</td>\n",
       "      <td>4.3</td>\n",
       "      <td>15.2</td>\n",
       "      <td>1.7</td>\n",
       "      <td>5.1</td>\n",
       "      <td>0.7</td>\n",
       "      <td>not fire</td>\n",
       "      <td>1</td>\n",
       "    </tr>\n",
       "    <tr>\n",
       "      <th>242</th>\n",
       "      <td>24</td>\n",
       "      <td>64</td>\n",
       "      <td>15</td>\n",
       "      <td>0.2</td>\n",
       "      <td>67.3</td>\n",
       "      <td>3.8</td>\n",
       "      <td>16.5</td>\n",
       "      <td>1.2</td>\n",
       "      <td>4.8</td>\n",
       "      <td>0.5</td>\n",
       "      <td>not fire</td>\n",
       "      <td>1</td>\n",
       "    </tr>\n",
       "  </tbody>\n",
       "</table>\n",
       "<p>243 rows × 12 columns</p>\n",
       "</div>"
      ],
      "text/plain": [
       "     Temperature  RH  Ws  Rain  FFMC   DMC    DC  ISI   BUI  FWI  \\\n",
       "0             29  57  18   0.0  65.7   3.4   7.6  1.3   3.4  0.5   \n",
       "1             29  61  13   1.3  64.4   4.1   7.6  1.0   3.9  0.4   \n",
       "2             26  82  22  13.1  47.1   2.5   7.1  0.3   2.7  0.1   \n",
       "3             25  89  13   2.5  28.6   1.3   6.9  0.0   1.7  0.0   \n",
       "4             27  77  16   0.0  64.8   3.0  14.2  1.2   3.9  0.5   \n",
       "..           ...  ..  ..   ...   ...   ...   ...  ...   ...  ...   \n",
       "238           30  65  14   0.0  85.4  16.0  44.5  4.5  16.9  6.5   \n",
       "239           28  87  15   4.4  41.1   6.5   8.0  0.1   6.2  0.0   \n",
       "240           27  87  29   0.5  45.9   3.5   7.9  0.4   3.4  0.2   \n",
       "241           24  54  18   0.1  79.7   4.3  15.2  1.7   5.1  0.7   \n",
       "242           24  64  15   0.2  67.3   3.8  16.5  1.2   4.8  0.5   \n",
       "\n",
       "          Classes  region  \n",
       "0     not fire          0  \n",
       "1     not fire          0  \n",
       "2     not fire          0  \n",
       "3     not fire          0  \n",
       "4     not fire          0  \n",
       "..            ...     ...  \n",
       "238       fire          1  \n",
       "239   not fire          1  \n",
       "240   not fire          1  \n",
       "241   not fire          1  \n",
       "242  not fire           1  \n",
       "\n",
       "[243 rows x 12 columns]"
      ]
     },
     "execution_count": 932,
     "metadata": {},
     "output_type": "execute_result"
    }
   ],
   "source": [
    "df=df.drop(['day','month','year'],axis=1)\n",
    "df"
   ]
  },
  {
   "cell_type": "markdown",
   "id": "cc210bfa",
   "metadata": {},
   "source": [
    "### Encoding the Object type Classes value "
   ]
  },
  {
   "cell_type": "code",
   "execution_count": 933,
   "id": "47c6a71a",
   "metadata": {},
   "outputs": [
    {
     "data": {
      "text/plain": [
       "fire             131\n",
       "not fire         100\n",
       "fire               4\n",
       "fire               2\n",
       "not fire           2\n",
       "not fire           2\n",
       "not fire           1\n",
       "not fire           1\n",
       "Name: Classes, dtype: int64"
      ]
     },
     "execution_count": 933,
     "metadata": {},
     "output_type": "execute_result"
    }
   ],
   "source": [
    "df['Classes'].value_counts()"
   ]
  },
  {
   "cell_type": "code",
   "execution_count": 934,
   "id": "b1cbf12c",
   "metadata": {},
   "outputs": [
    {
     "data": {
      "text/html": [
       "<div>\n",
       "<style scoped>\n",
       "    .dataframe tbody tr th:only-of-type {\n",
       "        vertical-align: middle;\n",
       "    }\n",
       "\n",
       "    .dataframe tbody tr th {\n",
       "        vertical-align: top;\n",
       "    }\n",
       "\n",
       "    .dataframe thead th {\n",
       "        text-align: right;\n",
       "    }\n",
       "</style>\n",
       "<table border=\"1\" class=\"dataframe\">\n",
       "  <thead>\n",
       "    <tr style=\"text-align: right;\">\n",
       "      <th></th>\n",
       "      <th>Temperature</th>\n",
       "      <th>RH</th>\n",
       "      <th>Ws</th>\n",
       "      <th>Rain</th>\n",
       "      <th>FFMC</th>\n",
       "      <th>DMC</th>\n",
       "      <th>DC</th>\n",
       "      <th>ISI</th>\n",
       "      <th>BUI</th>\n",
       "      <th>FWI</th>\n",
       "      <th>Classes</th>\n",
       "      <th>region</th>\n",
       "    </tr>\n",
       "  </thead>\n",
       "  <tbody>\n",
       "    <tr>\n",
       "      <th>0</th>\n",
       "      <td>29</td>\n",
       "      <td>57</td>\n",
       "      <td>18</td>\n",
       "      <td>0.0</td>\n",
       "      <td>65.7</td>\n",
       "      <td>3.4</td>\n",
       "      <td>7.6</td>\n",
       "      <td>1.3</td>\n",
       "      <td>3.4</td>\n",
       "      <td>0.5</td>\n",
       "      <td>0</td>\n",
       "      <td>0</td>\n",
       "    </tr>\n",
       "    <tr>\n",
       "      <th>1</th>\n",
       "      <td>29</td>\n",
       "      <td>61</td>\n",
       "      <td>13</td>\n",
       "      <td>1.3</td>\n",
       "      <td>64.4</td>\n",
       "      <td>4.1</td>\n",
       "      <td>7.6</td>\n",
       "      <td>1.0</td>\n",
       "      <td>3.9</td>\n",
       "      <td>0.4</td>\n",
       "      <td>0</td>\n",
       "      <td>0</td>\n",
       "    </tr>\n",
       "    <tr>\n",
       "      <th>2</th>\n",
       "      <td>26</td>\n",
       "      <td>82</td>\n",
       "      <td>22</td>\n",
       "      <td>13.1</td>\n",
       "      <td>47.1</td>\n",
       "      <td>2.5</td>\n",
       "      <td>7.1</td>\n",
       "      <td>0.3</td>\n",
       "      <td>2.7</td>\n",
       "      <td>0.1</td>\n",
       "      <td>0</td>\n",
       "      <td>0</td>\n",
       "    </tr>\n",
       "    <tr>\n",
       "      <th>3</th>\n",
       "      <td>25</td>\n",
       "      <td>89</td>\n",
       "      <td>13</td>\n",
       "      <td>2.5</td>\n",
       "      <td>28.6</td>\n",
       "      <td>1.3</td>\n",
       "      <td>6.9</td>\n",
       "      <td>0.0</td>\n",
       "      <td>1.7</td>\n",
       "      <td>0.0</td>\n",
       "      <td>0</td>\n",
       "      <td>0</td>\n",
       "    </tr>\n",
       "    <tr>\n",
       "      <th>4</th>\n",
       "      <td>27</td>\n",
       "      <td>77</td>\n",
       "      <td>16</td>\n",
       "      <td>0.0</td>\n",
       "      <td>64.8</td>\n",
       "      <td>3.0</td>\n",
       "      <td>14.2</td>\n",
       "      <td>1.2</td>\n",
       "      <td>3.9</td>\n",
       "      <td>0.5</td>\n",
       "      <td>0</td>\n",
       "      <td>0</td>\n",
       "    </tr>\n",
       "    <tr>\n",
       "      <th>...</th>\n",
       "      <td>...</td>\n",
       "      <td>...</td>\n",
       "      <td>...</td>\n",
       "      <td>...</td>\n",
       "      <td>...</td>\n",
       "      <td>...</td>\n",
       "      <td>...</td>\n",
       "      <td>...</td>\n",
       "      <td>...</td>\n",
       "      <td>...</td>\n",
       "      <td>...</td>\n",
       "      <td>...</td>\n",
       "    </tr>\n",
       "    <tr>\n",
       "      <th>238</th>\n",
       "      <td>30</td>\n",
       "      <td>65</td>\n",
       "      <td>14</td>\n",
       "      <td>0.0</td>\n",
       "      <td>85.4</td>\n",
       "      <td>16.0</td>\n",
       "      <td>44.5</td>\n",
       "      <td>4.5</td>\n",
       "      <td>16.9</td>\n",
       "      <td>6.5</td>\n",
       "      <td>1</td>\n",
       "      <td>1</td>\n",
       "    </tr>\n",
       "    <tr>\n",
       "      <th>239</th>\n",
       "      <td>28</td>\n",
       "      <td>87</td>\n",
       "      <td>15</td>\n",
       "      <td>4.4</td>\n",
       "      <td>41.1</td>\n",
       "      <td>6.5</td>\n",
       "      <td>8.0</td>\n",
       "      <td>0.1</td>\n",
       "      <td>6.2</td>\n",
       "      <td>0.0</td>\n",
       "      <td>0</td>\n",
       "      <td>1</td>\n",
       "    </tr>\n",
       "    <tr>\n",
       "      <th>240</th>\n",
       "      <td>27</td>\n",
       "      <td>87</td>\n",
       "      <td>29</td>\n",
       "      <td>0.5</td>\n",
       "      <td>45.9</td>\n",
       "      <td>3.5</td>\n",
       "      <td>7.9</td>\n",
       "      <td>0.4</td>\n",
       "      <td>3.4</td>\n",
       "      <td>0.2</td>\n",
       "      <td>0</td>\n",
       "      <td>1</td>\n",
       "    </tr>\n",
       "    <tr>\n",
       "      <th>241</th>\n",
       "      <td>24</td>\n",
       "      <td>54</td>\n",
       "      <td>18</td>\n",
       "      <td>0.1</td>\n",
       "      <td>79.7</td>\n",
       "      <td>4.3</td>\n",
       "      <td>15.2</td>\n",
       "      <td>1.7</td>\n",
       "      <td>5.1</td>\n",
       "      <td>0.7</td>\n",
       "      <td>0</td>\n",
       "      <td>1</td>\n",
       "    </tr>\n",
       "    <tr>\n",
       "      <th>242</th>\n",
       "      <td>24</td>\n",
       "      <td>64</td>\n",
       "      <td>15</td>\n",
       "      <td>0.2</td>\n",
       "      <td>67.3</td>\n",
       "      <td>3.8</td>\n",
       "      <td>16.5</td>\n",
       "      <td>1.2</td>\n",
       "      <td>4.8</td>\n",
       "      <td>0.5</td>\n",
       "      <td>0</td>\n",
       "      <td>1</td>\n",
       "    </tr>\n",
       "  </tbody>\n",
       "</table>\n",
       "<p>243 rows × 12 columns</p>\n",
       "</div>"
      ],
      "text/plain": [
       "     Temperature  RH  Ws  Rain  FFMC   DMC    DC  ISI   BUI  FWI  Classes  \\\n",
       "0             29  57  18   0.0  65.7   3.4   7.6  1.3   3.4  0.5        0   \n",
       "1             29  61  13   1.3  64.4   4.1   7.6  1.0   3.9  0.4        0   \n",
       "2             26  82  22  13.1  47.1   2.5   7.1  0.3   2.7  0.1        0   \n",
       "3             25  89  13   2.5  28.6   1.3   6.9  0.0   1.7  0.0        0   \n",
       "4             27  77  16   0.0  64.8   3.0  14.2  1.2   3.9  0.5        0   \n",
       "..           ...  ..  ..   ...   ...   ...   ...  ...   ...  ...      ...   \n",
       "238           30  65  14   0.0  85.4  16.0  44.5  4.5  16.9  6.5        1   \n",
       "239           28  87  15   4.4  41.1   6.5   8.0  0.1   6.2  0.0        0   \n",
       "240           27  87  29   0.5  45.9   3.5   7.9  0.4   3.4  0.2        0   \n",
       "241           24  54  18   0.1  79.7   4.3  15.2  1.7   5.1  0.7        0   \n",
       "242           24  64  15   0.2  67.3   3.8  16.5  1.2   4.8  0.5        0   \n",
       "\n",
       "     region  \n",
       "0         0  \n",
       "1         0  \n",
       "2         0  \n",
       "3         0  \n",
       "4         0  \n",
       "..      ...  \n",
       "238       1  \n",
       "239       1  \n",
       "240       1  \n",
       "241       1  \n",
       "242       1  \n",
       "\n",
       "[243 rows x 12 columns]"
      ]
     },
     "execution_count": 934,
     "metadata": {},
     "output_type": "execute_result"
    }
   ],
   "source": [
    "df['Classes']=np.where(df['Classes'].str.contains('not fire'),0,1)\n",
    "df"
   ]
  },
  {
   "cell_type": "markdown",
   "id": "caccf2e2",
   "metadata": {},
   "source": [
    "### Heatmap"
   ]
  },
  {
   "cell_type": "code",
   "execution_count": 935,
   "id": "8ccd69f3",
   "metadata": {},
   "outputs": [
    {
     "data": {
      "text/plain": [
       "<AxesSubplot:>"
      ]
     },
     "execution_count": 935,
     "metadata": {},
     "output_type": "execute_result"
    },
    {
     "data": {
      "image/png": "[encoded data removed]",
      "text/plain": [
       "<Figure size 720x576 with 2 Axes>"
      ]
     },
     "metadata": {
      "needs_background": "light"
     },
     "output_type": "display_data"
    }
   ],
   "source": [
    "plt.figure(figsize=(10,8))\n",
    "sns.heatmap(df.corr(),annot=True)"
   ]
  },
  {
   "cell_type": "markdown",
   "id": "95cbb690",
   "metadata": {},
   "source": [
    "### Selecting the dependent and Independent features"
   ]
  },
  {
   "cell_type": "code",
   "execution_count": 936,
   "id": "b5e4e1f4",
   "metadata": {},
   "outputs": [
    {
     "data": {
      "text/html": [
       "<div>\n",
       "<style scoped>\n",
       "    .dataframe tbody tr th:only-of-type {\n",
       "        vertical-align: middle;\n",
       "    }\n",
       "\n",
       "    .dataframe tbody tr th {\n",
       "        vertical-align: top;\n",
       "    }\n",
       "\n",
       "    .dataframe thead th {\n",
       "        text-align: right;\n",
       "    }\n",
       "</style>\n",
       "<table border=\"1\" class=\"dataframe\">\n",
       "  <thead>\n",
       "    <tr style=\"text-align: right;\">\n",
       "      <th></th>\n",
       "      <th>Temperature</th>\n",
       "      <th>RH</th>\n",
       "      <th>Ws</th>\n",
       "      <th>Rain</th>\n",
       "      <th>FFMC</th>\n",
       "      <th>DMC</th>\n",
       "      <th>DC</th>\n",
       "      <th>ISI</th>\n",
       "      <th>BUI</th>\n",
       "      <th>Classes</th>\n",
       "      <th>region</th>\n",
       "    </tr>\n",
       "  </thead>\n",
       "  <tbody>\n",
       "    <tr>\n",
       "      <th>0</th>\n",
       "      <td>29</td>\n",
       "      <td>57</td>\n",
       "      <td>18</td>\n",
       "      <td>0.0</td>\n",
       "      <td>65.7</td>\n",
       "      <td>3.4</td>\n",
       "      <td>7.6</td>\n",
       "      <td>1.3</td>\n",
       "      <td>3.4</td>\n",
       "      <td>0</td>\n",
       "      <td>0</td>\n",
       "    </tr>\n",
       "    <tr>\n",
       "      <th>1</th>\n",
       "      <td>29</td>\n",
       "      <td>61</td>\n",
       "      <td>13</td>\n",
       "      <td>1.3</td>\n",
       "      <td>64.4</td>\n",
       "      <td>4.1</td>\n",
       "      <td>7.6</td>\n",
       "      <td>1.0</td>\n",
       "      <td>3.9</td>\n",
       "      <td>0</td>\n",
       "      <td>0</td>\n",
       "    </tr>\n",
       "    <tr>\n",
       "      <th>2</th>\n",
       "      <td>26</td>\n",
       "      <td>82</td>\n",
       "      <td>22</td>\n",
       "      <td>13.1</td>\n",
       "      <td>47.1</td>\n",
       "      <td>2.5</td>\n",
       "      <td>7.1</td>\n",
       "      <td>0.3</td>\n",
       "      <td>2.7</td>\n",
       "      <td>0</td>\n",
       "      <td>0</td>\n",
       "    </tr>\n",
       "    <tr>\n",
       "      <th>3</th>\n",
       "      <td>25</td>\n",
       "      <td>89</td>\n",
       "      <td>13</td>\n",
       "      <td>2.5</td>\n",
       "      <td>28.6</td>\n",
       "      <td>1.3</td>\n",
       "      <td>6.9</td>\n",
       "      <td>0.0</td>\n",
       "      <td>1.7</td>\n",
       "      <td>0</td>\n",
       "      <td>0</td>\n",
       "    </tr>\n",
       "    <tr>\n",
       "      <th>4</th>\n",
       "      <td>27</td>\n",
       "      <td>77</td>\n",
       "      <td>16</td>\n",
       "      <td>0.0</td>\n",
       "      <td>64.8</td>\n",
       "      <td>3.0</td>\n",
       "      <td>14.2</td>\n",
       "      <td>1.2</td>\n",
       "      <td>3.9</td>\n",
       "      <td>0</td>\n",
       "      <td>0</td>\n",
       "    </tr>\n",
       "  </tbody>\n",
       "</table>\n",
       "</div>"
      ],
      "text/plain": [
       "   Temperature  RH  Ws  Rain  FFMC  DMC    DC  ISI  BUI  Classes  region\n",
       "0           29  57  18   0.0  65.7  3.4   7.6  1.3  3.4        0       0\n",
       "1           29  61  13   1.3  64.4  4.1   7.6  1.0  3.9        0       0\n",
       "2           26  82  22  13.1  47.1  2.5   7.1  0.3  2.7        0       0\n",
       "3           25  89  13   2.5  28.6  1.3   6.9  0.0  1.7        0       0\n",
       "4           27  77  16   0.0  64.8  3.0  14.2  1.2  3.9        0       0"
      ]
     },
     "execution_count": 936,
     "metadata": {},
     "output_type": "execute_result"
    }
   ],
   "source": [
    "X=df.drop('FWI',axis=1)\n",
    "y=df['FWI']\n",
    "X.head()"
   ]
  },
  {
   "cell_type": "markdown",
   "id": "5ddbfb13",
   "metadata": {},
   "source": [
    "### Test Train Split"
   ]
  },
  {
   "cell_type": "code",
   "execution_count": 937,
   "id": "d097e125",
   "metadata": {},
   "outputs": [
    {
     "data": {
      "text/html": [
       "<div>\n",
       "<style scoped>\n",
       "    .dataframe tbody tr th:only-of-type {\n",
       "        vertical-align: middle;\n",
       "    }\n",
       "\n",
       "    .dataframe tbody tr th {\n",
       "        vertical-align: top;\n",
       "    }\n",
       "\n",
       "    .dataframe thead th {\n",
       "        text-align: right;\n",
       "    }\n",
       "</style>\n",
       "<table border=\"1\" class=\"dataframe\">\n",
       "  <thead>\n",
       "    <tr style=\"text-align: right;\">\n",
       "      <th></th>\n",
       "      <th>Temperature</th>\n",
       "      <th>RH</th>\n",
       "      <th>Ws</th>\n",
       "      <th>Rain</th>\n",
       "      <th>FFMC</th>\n",
       "      <th>DMC</th>\n",
       "      <th>DC</th>\n",
       "      <th>ISI</th>\n",
       "      <th>BUI</th>\n",
       "      <th>Classes</th>\n",
       "      <th>region</th>\n",
       "    </tr>\n",
       "  </thead>\n",
       "  <tbody>\n",
       "    <tr>\n",
       "      <th>Temperature</th>\n",
       "      <td>1.000000</td>\n",
       "      <td>-0.651400</td>\n",
       "      <td>-0.284510</td>\n",
       "      <td>-0.326492</td>\n",
       "      <td>0.676568</td>\n",
       "      <td>0.485687</td>\n",
       "      <td>0.376284</td>\n",
       "      <td>0.603871</td>\n",
       "      <td>0.459789</td>\n",
       "      <td>0.516015</td>\n",
       "      <td>0.269555</td>\n",
       "    </tr>\n",
       "    <tr>\n",
       "      <th>RH</th>\n",
       "      <td>-0.651400</td>\n",
       "      <td>1.000000</td>\n",
       "      <td>0.244048</td>\n",
       "      <td>0.222356</td>\n",
       "      <td>-0.644873</td>\n",
       "      <td>-0.408519</td>\n",
       "      <td>-0.226941</td>\n",
       "      <td>-0.686667</td>\n",
       "      <td>-0.353841</td>\n",
       "      <td>-0.432161</td>\n",
       "      <td>-0.402682</td>\n",
       "    </tr>\n",
       "    <tr>\n",
       "      <th>Ws</th>\n",
       "      <td>-0.284510</td>\n",
       "      <td>0.244048</td>\n",
       "      <td>1.000000</td>\n",
       "      <td>0.171506</td>\n",
       "      <td>-0.166548</td>\n",
       "      <td>-0.000721</td>\n",
       "      <td>0.079135</td>\n",
       "      <td>0.008532</td>\n",
       "      <td>0.031438</td>\n",
       "      <td>-0.069964</td>\n",
       "      <td>-0.181160</td>\n",
       "    </tr>\n",
       "    <tr>\n",
       "      <th>Rain</th>\n",
       "      <td>-0.326492</td>\n",
       "      <td>0.222356</td>\n",
       "      <td>0.171506</td>\n",
       "      <td>1.000000</td>\n",
       "      <td>-0.543906</td>\n",
       "      <td>-0.288773</td>\n",
       "      <td>-0.298023</td>\n",
       "      <td>-0.347484</td>\n",
       "      <td>-0.299852</td>\n",
       "      <td>-0.379097</td>\n",
       "      <td>-0.040013</td>\n",
       "    </tr>\n",
       "    <tr>\n",
       "      <th>FFMC</th>\n",
       "      <td>0.676568</td>\n",
       "      <td>-0.644873</td>\n",
       "      <td>-0.166548</td>\n",
       "      <td>-0.543906</td>\n",
       "      <td>1.000000</td>\n",
       "      <td>0.603608</td>\n",
       "      <td>0.507397</td>\n",
       "      <td>0.740007</td>\n",
       "      <td>0.592011</td>\n",
       "      <td>0.769492</td>\n",
       "      <td>0.222241</td>\n",
       "    </tr>\n",
       "    <tr>\n",
       "      <th>DMC</th>\n",
       "      <td>0.485687</td>\n",
       "      <td>-0.408519</td>\n",
       "      <td>-0.000721</td>\n",
       "      <td>-0.288773</td>\n",
       "      <td>0.603608</td>\n",
       "      <td>1.000000</td>\n",
       "      <td>0.875925</td>\n",
       "      <td>0.680454</td>\n",
       "      <td>0.982248</td>\n",
       "      <td>0.585658</td>\n",
       "      <td>0.192089</td>\n",
       "    </tr>\n",
       "    <tr>\n",
       "      <th>DC</th>\n",
       "      <td>0.376284</td>\n",
       "      <td>-0.226941</td>\n",
       "      <td>0.079135</td>\n",
       "      <td>-0.298023</td>\n",
       "      <td>0.507397</td>\n",
       "      <td>0.875925</td>\n",
       "      <td>1.000000</td>\n",
       "      <td>0.508643</td>\n",
       "      <td>0.941988</td>\n",
       "      <td>0.511123</td>\n",
       "      <td>-0.078734</td>\n",
       "    </tr>\n",
       "    <tr>\n",
       "      <th>ISI</th>\n",
       "      <td>0.603871</td>\n",
       "      <td>-0.686667</td>\n",
       "      <td>0.008532</td>\n",
       "      <td>-0.347484</td>\n",
       "      <td>0.740007</td>\n",
       "      <td>0.680454</td>\n",
       "      <td>0.508643</td>\n",
       "      <td>1.000000</td>\n",
       "      <td>0.644093</td>\n",
       "      <td>0.735197</td>\n",
       "      <td>0.263197</td>\n",
       "    </tr>\n",
       "    <tr>\n",
       "      <th>BUI</th>\n",
       "      <td>0.459789</td>\n",
       "      <td>-0.353841</td>\n",
       "      <td>0.031438</td>\n",
       "      <td>-0.299852</td>\n",
       "      <td>0.592011</td>\n",
       "      <td>0.982248</td>\n",
       "      <td>0.941988</td>\n",
       "      <td>0.644093</td>\n",
       "      <td>1.000000</td>\n",
       "      <td>0.586639</td>\n",
       "      <td>0.089408</td>\n",
       "    </tr>\n",
       "    <tr>\n",
       "      <th>Classes</th>\n",
       "      <td>0.516015</td>\n",
       "      <td>-0.432161</td>\n",
       "      <td>-0.069964</td>\n",
       "      <td>-0.379097</td>\n",
       "      <td>0.769492</td>\n",
       "      <td>0.585658</td>\n",
       "      <td>0.511123</td>\n",
       "      <td>0.735197</td>\n",
       "      <td>0.586639</td>\n",
       "      <td>1.000000</td>\n",
       "      <td>0.162347</td>\n",
       "    </tr>\n",
       "    <tr>\n",
       "      <th>region</th>\n",
       "      <td>0.269555</td>\n",
       "      <td>-0.402682</td>\n",
       "      <td>-0.181160</td>\n",
       "      <td>-0.040013</td>\n",
       "      <td>0.222241</td>\n",
       "      <td>0.192089</td>\n",
       "      <td>-0.078734</td>\n",
       "      <td>0.263197</td>\n",
       "      <td>0.089408</td>\n",
       "      <td>0.162347</td>\n",
       "      <td>1.000000</td>\n",
       "    </tr>\n",
       "  </tbody>\n",
       "</table>\n",
       "</div>"
      ],
      "text/plain": [
       "             Temperature        RH        Ws      Rain      FFMC       DMC  \\\n",
       "Temperature     1.000000 -0.651400 -0.284510 -0.326492  0.676568  0.485687   \n",
       "RH             -0.651400  1.000000  0.244048  0.222356 -0.644873 -0.408519   \n",
       "Ws             -0.284510  0.244048  1.000000  0.171506 -0.166548 -0.000721   \n",
       "Rain           -0.326492  0.222356  0.171506  1.000000 -0.543906 -0.288773   \n",
       "FFMC            0.676568 -0.644873 -0.166548 -0.543906  1.000000  0.603608   \n",
       "DMC             0.485687 -0.408519 -0.000721 -0.288773  0.603608  1.000000   \n",
       "DC              0.376284 -0.226941  0.079135 -0.298023  0.507397  0.875925   \n",
       "ISI             0.603871 -0.686667  0.008532 -0.347484  0.740007  0.680454   \n",
       "BUI             0.459789 -0.353841  0.031438 -0.299852  0.592011  0.982248   \n",
       "Classes         0.516015 -0.432161 -0.069964 -0.379097  0.769492  0.585658   \n",
       "region          0.269555 -0.402682 -0.181160 -0.040013  0.222241  0.192089   \n",
       "\n",
       "                   DC       ISI       BUI   Classes    region  \n",
       "Temperature  0.376284  0.603871  0.459789  0.516015  0.269555  \n",
       "RH          -0.226941 -0.686667 -0.353841 -0.432161 -0.402682  \n",
       "Ws           0.079135  0.008532  0.031438 -0.069964 -0.181160  \n",
       "Rain        -0.298023 -0.347484 -0.299852 -0.379097 -0.040013  \n",
       "FFMC         0.507397  0.740007  0.592011  0.769492  0.222241  \n",
       "DMC          0.875925  0.680454  0.982248  0.585658  0.192089  \n",
       "DC           1.000000  0.508643  0.941988  0.511123 -0.078734  \n",
       "ISI          0.508643  1.000000  0.644093  0.735197  0.263197  \n",
       "BUI          0.941988  0.644093  1.000000  0.586639  0.089408  \n",
       "Classes      0.511123  0.735197  0.586639  1.000000  0.162347  \n",
       "region      -0.078734  0.263197  0.089408  0.162347  1.000000  "
      ]
     },
     "execution_count": 937,
     "metadata": {},
     "output_type": "execute_result"
    }
   ],
   "source": [
    "X_train,X_test,y_train,y_test= train_test_split(X,y,test_size=0.25,random_state=42)\n",
    "X.corr()"
   ]
  },
  {
   "cell_type": "markdown",
   "id": "a3cc66f4",
   "metadata": {},
   "source": [
    "### Making the correlation matrix to find the highly correlated features above a given threshold"
   ]
  },
  {
   "cell_type": "code",
   "execution_count": 938,
   "id": "cdaa4a05",
   "metadata": {},
   "outputs": [],
   "source": [
    "correlation_matrix=X.corr()"
   ]
  },
  {
   "cell_type": "code",
   "execution_count": 939,
   "id": "2572b86f",
   "metadata": {},
   "outputs": [],
   "source": [
    "def correlation(dataset,corr):\n",
    "    col_names=set()\n",
    "    corr_matrix=dataset.corr()\n",
    "    for i in range(len(corr_matrix.columns)):\n",
    "        for j in range(i):\n",
    "            if abs(corr_matrix.iloc[i,j])>=corr:\n",
    "                col_name=corr_matrix.columns[i]\n",
    "                col_names.add(col_name)\n",
    "    return col_names"
   ]
  },
  {
   "cell_type": "code",
   "execution_count": 940,
   "id": "90b52a00",
   "metadata": {},
   "outputs": [
    {
     "data": {
      "text/plain": [
       "['BUI', 'DC']"
      ]
     },
     "execution_count": 940,
     "metadata": {},
     "output_type": "execute_result"
    }
   ],
   "source": [
    "correlated_features=list(correlation(X_train,0.85))\n",
    "correlated_features"
   ]
  },
  {
   "cell_type": "markdown",
   "id": "8bdd51f4",
   "metadata": {},
   "source": [
    "### Visualisation the trend of highly correlated features"
   ]
  },
  {
   "cell_type": "code",
   "execution_count": 941,
   "id": "c13edead",
   "metadata": {},
   "outputs": [
    {
     "data": {
      "image/png": "[encoded data removed]",
      "text/plain": [
       "<Figure size 432x288 with 2 Axes>"
      ]
     },
     "metadata": {
      "needs_background": "light"
     },
     "output_type": "display_data"
    }
   ],
   "source": [
    "fig,ax=plt.subplots(1,len(correlated_features))\n",
    "for i in range(0,len(correlated_features)):\n",
    "  ax[i].scatter(X_train[correlated_features[i]],y_train,c='r')\n",
    "  plt.title(correlated_features[i])"
   ]
  },
  {
   "cell_type": "code",
   "execution_count": 942,
   "id": "42e2f2e2",
   "metadata": {},
   "outputs": [
    {
     "data": {
      "text/plain": [
       "(     Temperature  RH  Ws  Rain  FFMC   DMC   ISI  Classes  region\n",
       " 97            29  74  19   0.1  75.8   3.6   2.1        0       0\n",
       " 141           31  72  14   0.2  60.2   3.8   0.8        0       1\n",
       " 192           40  31  15   0.0  94.2  22.5  16.6        1       1\n",
       " 68            32  60  18   0.3  77.1  11.3   2.2        0       0\n",
       " 119           32  47  14   0.7  77.5   7.1   1.8        0       0\n",
       " ..           ...  ..  ..   ...   ...   ...   ...      ...     ...\n",
       " 106           24  82  15   0.4  44.9   0.9   0.2        0       0\n",
       " 14            28  80  17   3.1  49.4   3.0   0.4        0       0\n",
       " 92            25  76  17   7.2  46.0   1.3   0.2        0       0\n",
       " 179           34  59  16   0.0  88.1  19.5   7.4        1       1\n",
       " 102           30  77  21   1.8  58.5   1.9   1.1        0       0\n",
       " \n",
       " [182 rows x 9 columns],\n",
       "      Temperature  RH  Ws  Rain  FFMC   DMC  ISI  Classes  region\n",
       " 24            31  64  15   0.0  86.7  14.2  5.7        1       0\n",
       " 6             33  54  13   0.0  88.2   9.9  6.4        1       0\n",
       " 152           28  58  18   2.2  63.7   3.2  1.2        0       1\n",
       " 232           34  58  13   0.2  79.5  18.7  2.1        0       1\n",
       " 238           30  65  14   0.0  85.4  16.0  4.5        1       1\n",
       " ..           ...  ..  ..   ...   ...   ...  ...      ...     ...\n",
       " 162           34  56  15   2.9  74.8   7.1  1.6        0       1\n",
       " 178           33  57  16   0.0  87.5  15.7  6.7        1       1\n",
       " 224           31  72  14   0.0  84.2   8.3  3.8        1       1\n",
       " 230           36  33  13   0.1  90.6  25.8  9.0        1       1\n",
       " 154           34  56  17   0.1  84.7   9.7  4.7        1       1\n",
       " \n",
       " [61 rows x 9 columns])"
      ]
     },
     "execution_count": 942,
     "metadata": {},
     "output_type": "execute_result"
    }
   ],
   "source": [
    "for i in range(0,len(correlated_features)):\n",
    "    X_train.drop(correlated_feature[i],axis=1,inplace=True)\n",
    "    X_test.drop(correlated_features[i],axis=1,inplace=True)\n",
    "X_train,X_test"
   ]
  },
  {
   "cell_type": "markdown",
   "id": "550d5ba2",
   "metadata": {},
   "source": [
    "### Standard Scaling"
   ]
  },
  {
   "cell_type": "code",
   "execution_count": 943,
   "id": "abab0499",
   "metadata": {},
   "outputs": [
    {
     "data": {
      "text/plain": [
       "((182, 9),\n",
       " (61, 9),\n",
       " array([[-0.84284248,  0.78307967,  1.29972026, ..., -0.62963326,\n",
       "         -1.10431526, -0.98907071],\n",
       "        [-0.30175842,  0.64950844, -0.59874754, ..., -0.93058524,\n",
       "         -1.10431526,  1.01105006],\n",
       "        [ 2.13311985, -2.08870172, -0.21905398, ...,  2.7271388 ,\n",
       "          0.90553851,  1.01105006],\n",
       "        ...,\n",
       "        [-1.9250106 ,  0.9166509 ,  0.54033314, ..., -1.06948615,\n",
       "         -1.10431526, -0.98907071],\n",
       "        [ 0.50986767, -0.21870454,  0.16063958, ...,  0.5973248 ,\n",
       "          0.90553851,  1.01105006],\n",
       "        [-0.57230045,  0.98343651,  2.05910739, ..., -0.86113478,\n",
       "         -1.10431526, -0.98907071]]),\n",
       " array([[-3.01758418e-01,  1.15223531e-01, -2.19053977e-01,\n",
       "         -3.84060174e-01,  6.33218240e-01, -4.25075679e-02,\n",
       "          2.03772218e-01,  9.05538514e-01, -9.89070710e-01],\n",
       "        [ 2.39325642e-01, -5.52632606e-01, -9.78441098e-01,\n",
       "         -3.84060174e-01,  7.37980727e-01, -3.83352062e-01,\n",
       "          3.65823283e-01,  9.05538514e-01, -9.89070710e-01],\n",
       "        [-1.11338451e+00, -2.85490151e-01,  9.20026704e-01,\n",
       "          6.45241658e-01, -9.73139891e-01, -9.14435344e-01,\n",
       "         -8.37984627e-01, -1.10431526e+00,  1.01105006e+00],\n",
       "        [ 5.09867672e-01, -2.85490151e-01, -9.78441098e-01,\n",
       "         -2.90487280e-01,  1.30358303e-01,  3.14190159e-01,\n",
       "         -6.29633258e-01, -1.10431526e+00,  1.01105006e+00],\n",
       "        [-5.72300448e-01,  1.82009145e-01, -5.98747538e-01,\n",
       "         -3.84060174e-01,  5.42424085e-01,  1.00171523e-01,\n",
       "         -7.40296073e-02,  9.05538514e-01,  1.01105006e+00],\n",
       "        [ 1.86257782e+00,  1.15223531e-01, -2.49721534e+00,\n",
       "          1.77377189e-01, -2.67739147e-01, -2.40672972e-01,\n",
       "         -8.61134779e-01, -1.10431526e+00,  1.01105006e+00],\n",
       "        [-1.11338451e+00,  8.49865282e-01,  1.60639583e-01,\n",
       "         -3.84060174e-01,  3.18930780e-01, -8.19315950e-01,\n",
       "         -3.51831432e-01,  9.05538514e-01,  1.01105006e+00],\n",
       "        [ 1.32149376e+00, -1.75477365e+00, -9.78441098e-01,\n",
       "         -1.03341493e-01,  5.98297411e-01,  2.50777229e-01,\n",
       "         -4.57915097e-03,  9.05538514e-01,  1.01105006e+00],\n",
       "        [-1.11338451e+00,  1.11700774e+00, -1.35813466e+00,\n",
       "         -3.84060174e-01, -3.09644141e-01, -4.15058527e-01,\n",
       "         -8.14834475e-01, -1.10431526e+00, -9.89070710e-01],\n",
       "        [-3.01758418e-01, -8.19775060e-01,  1.29972026e+00,\n",
       "         -1.03341493e-01,  1.16274848e-02, -3.27865749e-01,\n",
       "         -5.60182801e-01, -1.10431526e+00, -9.89070710e-01],\n",
       "        [-1.11338451e+00,  9.16650896e-01,  2.05910739e+00,\n",
       "         -3.84060174e-01, -3.51549136e-01, -6.13223930e-01,\n",
       "         -9.53735387e-01, -1.10431526e+00, -9.89070710e-01],\n",
       "        [ 7.80409702e-01, -4.19061378e-01, -5.98747538e-01,\n",
       "         -1.96914386e-01,  1.09405806e-01,  1.76476091e+00,\n",
       "         -6.29633258e-01, -1.10431526e+00,  1.01105006e+00],\n",
       "        [-3.12163881e-02, -7.52989447e-01, -9.78441098e-01,\n",
       "         -3.84060174e-01,  7.72901556e-01,  1.00171523e-01,\n",
       "          4.81574043e-01,  9.05538514e-01,  1.01105006e+00],\n",
       "        [ 1.05095173e+00, -8.19775060e-01,  1.60639583e-01,\n",
       "         -3.84060174e-01,  8.56711545e-01,  1.42391642e+00,\n",
       "          1.08347800e+00,  9.05538514e-01,  1.01105006e+00],\n",
       "        [ 1.05095173e+00, -4.85846992e-01,  9.20026704e-01,\n",
       "         -3.84060174e-01,  8.00838219e-01,  1.48732935e+00,\n",
       "          1.17607861e+00,  9.05538514e-01, -9.89070710e-01],\n",
       "        [ 5.09867672e-01, -7.52989447e-01,  1.60639583e-01,\n",
       "          1.39382481e+00, -9.32501256e-03, -5.33957769e-01,\n",
       "         -6.52783410e-01, -1.10431526e+00,  1.01105006e+00],\n",
       "        [-1.65446857e+00, -8.86560674e-01, -3.63629602e+00,\n",
       "          5.51668764e-01, -1.14075987e+00, -2.24819739e-01,\n",
       "         -9.76885539e-01, -1.10431526e+00,  1.01105006e+00],\n",
       "        [-8.42842478e-01,  1.78486387e+00, -9.78441098e-01,\n",
       "         -5.65550457e-02, -2.90076965e+00, -1.03333459e+00,\n",
       "         -1.11578645e+00, -1.10431526e+00, -9.89070710e-01],\n",
       "        [-3.12163881e-02,  8.49865282e-01, -5.98747538e-01,\n",
       "         -3.84060174e-01,  6.12265743e-01, -1.37626962e-01,\n",
       "          8.80214574e-02,  9.05538514e-01, -9.89070710e-01],\n",
       "        [ 7.80409702e-01, -5.52632606e-01, -1.73782822e+00,\n",
       "         -3.37273727e-01,  4.23693266e-01, -5.02251304e-01,\n",
       "         -3.98131737e-01,  9.05538514e-01,  1.01105006e+00],\n",
       "        [ 2.39325642e-01,  1.05022212e+00,  5.40333144e-01,\n",
       "         -3.84060174e-01,  1.72263298e-01, -8.03462718e-01,\n",
       "         -4.90732345e-01, -1.10431526e+00, -9.89070710e-01],\n",
       "        [-5.72300448e-01,  1.18379335e+00,  1.60639583e-01,\n",
       "         -1.96914386e-01, -1.24552236e+00, -8.98582112e-01,\n",
       "         -9.07435083e-01, -1.10431526e+00, -9.89070710e-01],\n",
       "        [-3.01758418e-01, -6.86203833e-01, -5.98747538e-01,\n",
       "         -3.84060174e-01,  7.03059898e-01, -6.60783627e-01,\n",
       "          3.19522978e-01,  9.05538514e-01, -9.89070710e-01],\n",
       "        [-8.42842478e-01,  3.82365986e-01,  1.29972026e+00,\n",
       "          8.38042950e-02, -1.23853819e+00, -9.69921657e-01,\n",
       "         -8.61134779e-01, -1.10431526e+00, -9.89070710e-01],\n",
       "        [ 1.59203579e+00, -1.82155927e+00, -2.19053977e-01,\n",
       "         -3.84060174e-01,  1.12909401e+00,  6.55034653e-01,\n",
       "          2.51878743e+00,  9.05538514e-01,  1.01105006e+00],\n",
       "        [ 1.86257782e+00, -1.15370313e+00, -9.78441098e-01,\n",
       "         -1.03341493e-01,  5.28455753e-01, -2.72379436e-01,\n",
       "         -1.43480064e-01,  9.05538514e-01,  1.01105006e+00],\n",
       "        [-3.01758418e-01,  1.82009145e-01, -5.98747538e-01,\n",
       "         -3.84060174e-01,  4.79566593e-01, -1.77260042e-01,\n",
       "         -1.89780368e-01,  9.05538514e-01, -9.89070710e-01],\n",
       "        [ 7.80409702e-01,  4.84379176e-02, -2.19053977e-01,\n",
       "         -3.84060174e-01,  6.54170737e-01,  3.37970007e-01,\n",
       "          2.50072522e-01,  9.05538514e-01, -9.89070710e-01],\n",
       "        [-2.73663669e+00,  1.58450703e+00, -2.19053977e-01,\n",
       "          4.34137096e+00, -3.29188293e+00, -1.11260075e+00,\n",
       "         -1.11578645e+00, -1.10431526e+00, -9.89070710e-01],\n",
       "        [ 5.09867672e-01, -2.85490151e-01,  9.20026704e-01,\n",
       "         -3.84060174e-01,  7.24012395e-01, -9.00672648e-02,\n",
       "          7.36225716e-01,  9.05538514e-01,  1.01105006e+00],\n",
       "        [-1.11338451e+00,  1.45093581e+00,  9.20026704e-01,\n",
       "         -3.84060174e-01,  4.30677432e-01, -9.79938809e-02,\n",
       "         -7.40296073e-02,  9.05538514e-01, -9.89070710e-01],\n",
       "        [-5.72300448e-01, -2.85490151e-01, -1.35813466e+00,\n",
       "          1.53418415e+00, -8.05519912e-01, -8.51022415e-01,\n",
       "         -8.84284931e-01, -1.10431526e+00,  1.01105006e+00],\n",
       "        [-3.01758418e-01,  1.15223531e-01,  9.20026704e-01,\n",
       "         -3.84060174e-01,  6.40202406e-01,  2.42850613e-01,\n",
       "          4.35273739e-01,  9.05538514e-01, -9.89070710e-01],\n",
       "        [ 7.80409702e-01,  1.15223531e-01,  5.40333144e-01,\n",
       "         -3.84060174e-01,  6.68139069e-01,  1.36050349e+00,\n",
       "          4.58423891e-01,  9.05538514e-01, -9.89070710e-01],\n",
       "        [-3.01758418e-01, -4.85846992e-01,  1.60639583e-01,\n",
       "         -3.37273727e-01,  1.58294966e-01, -8.11389334e-01,\n",
       "         -5.37032649e-01, -1.10431526e+00, -9.89070710e-01],\n",
       "        [-3.12163881e-02, -1.51918923e-01, -5.98747538e-01,\n",
       "         -2.90487280e-01, -3.72616757e-02, -6.92490092e-01,\n",
       "         -6.99083714e-01, -1.10431526e+00,  1.01105006e+00],\n",
       "        [-8.42842478e-01,  8.49865282e-01,  1.60639583e-01,\n",
       "         -3.84060174e-01,  2.21152458e-01, -8.98582112e-01,\n",
       "         -4.67582193e-01,  9.05538514e-01, -9.89070710e-01],\n",
       "        [ 7.80409702e-01, -1.08691752e+00, -9.78441098e-01,\n",
       "         -2.43700833e-01,  4.37661598e-01,  1.71511068e-01,\n",
       "         -3.05531128e-01,  9.05538514e-01,  1.01105006e+00],\n",
       "        [-8.42842478e-01,  1.65129265e+00, -2.19053977e-01,\n",
       "         -1.96914386e-01, -2.11155892e+00, -8.35169182e-01,\n",
       "         -1.06948615e+00, -1.10431526e+00,  1.01105006e+00],\n",
       "        [-1.38392654e+00,  1.65129265e+00,  5.09665587e+00,\n",
       "         -1.50127939e-01, -2.21632140e+00, -8.90655495e-01,\n",
       "         -1.02318584e+00, -1.10431526e+00,  1.01105006e+00],\n",
       "        [ 1.05095173e+00, -4.85846992e-01, -9.78441098e-01,\n",
       "         -2.43700833e-01,  3.32899111e-01,  6.84650581e-02,\n",
       "         -2.59230824e-01,  9.05538514e-01, -9.89070710e-01],\n",
       "        [-3.01758418e-01, -5.52632606e-01, -1.73782822e+00,\n",
       "         -3.84060174e-01,  3.04962448e-01, -6.92490092e-01,\n",
       "         -5.37032649e-01, -1.10431526e+00, -9.89070710e-01],\n",
       "        [-3.01758418e-01, -4.85846992e-01, -1.73782822e+00,\n",
       "         -3.84060174e-01,  7.10044064e-01,  1.39804603e-01,\n",
       "          1.34321762e-01,  9.05538514e-01, -9.89070710e-01],\n",
       "        [-5.72300448e-01,  1.78486387e+00,  1.60639583e-01,\n",
       "         -1.03341493e-01, -2.81695966e+00, -1.08089428e+00,\n",
       "         -1.11578645e+00, -1.10431526e+00, -9.89070710e-01],\n",
       "        [ 1.32149376e+00, -1.48763120e+00, -9.78441098e-01,\n",
       "         -3.84060174e-01,  9.96394861e-01,  5.99548340e-01,\n",
       "          1.38442998e+00,  9.05538514e-01,  1.01105006e+00],\n",
       "        [-3.12163881e-02,  4.49151600e-01,  1.60639583e-01,\n",
       "         -3.84060174e-01,  6.19249908e-01,  6.05384420e-02,\n",
       "          1.57471914e-01,  9.05538514e-01, -9.89070710e-01],\n",
       "        [-3.12163881e-02,  1.25057896e+00,  5.40333144e-01,\n",
       "         -3.84060174e-01,  4.86550758e-01,  5.04428946e-01,\n",
       "         -2.77293031e-02,  9.05538514e-01,  1.01105006e+00],\n",
       "        [-3.12163881e-02,  3.82365986e-01, -5.98747538e-01,\n",
       "          2.70950082e-01, -7.70599084e-01, -5.57737617e-01,\n",
       "         -8.61134779e-01, -1.10431526e+00, -9.89070710e-01],\n",
       "        [ 1.05095173e+00, -4.19061378e-01,  1.60639583e-01,\n",
       "         -3.84060174e-01,  7.86869887e-01,  7.18447582e-01,\n",
       "          7.82526020e-01,  9.05538514e-01,  1.01105006e+00],\n",
       "        [-8.42842478e-01,  1.82009145e-01,  1.29972026e+00,\n",
       "         -1.03341493e-01, -6.51868265e-01, -7.32123173e-01,\n",
       "         -7.68534170e-01, -1.10431526e+00, -9.89070710e-01],\n",
       "        [ 2.39325642e-01, -1.68798804e+00,  1.60639583e-01,\n",
       "         -3.84060174e-01,  1.01734736e+00,  3.69092864e+00,\n",
       "          1.91688347e+00,  9.05538514e-01,  1.01105006e+00],\n",
       "        [ 1.59203579e+00, -1.28727436e+00, -9.78441098e-01,\n",
       "         -1.50127939e-01,  5.14487422e-01, -1.37626962e-01,\n",
       "         -1.66630216e-01,  9.05538514e-01,  1.01105006e+00],\n",
       "        [-3.01758418e-01, -1.35405997e+00,  2.05910739e+00,\n",
       "         -3.84060174e-01,  9.05600706e-01,  2.74557078e-01,\n",
       "          1.98633393e+00,  9.05538514e-01,  1.01105006e+00],\n",
       "        [ 5.09867672e-01,  1.15223531e-01, -5.98747538e-01,\n",
       "         -3.84060174e-01,  7.86869887e-01,  2.04219248e+00,\n",
       "          9.67727237e-01,  9.05538514e-01, -9.89070710e-01],\n",
       "        [ 1.05095173e+00, -6.19418219e-01,  1.29972026e+00,\n",
       "         -3.84060174e-01,  8.07822385e-01,  1.87364300e-01,\n",
       "          1.19922876e+00,  9.05538514e-01, -9.89070710e-01],\n",
       "        [-3.01758418e-01,  1.05022212e+00,  9.20026704e-01,\n",
       "         -3.84060174e-01,  5.70360748e-01,  2.44644990e+00,\n",
       "         -2.77293031e-02,  9.05538514e-01, -9.89070710e-01],\n",
       "        [ 5.09867672e-01, -4.19061378e-01, -2.19053977e-01,\n",
       "          9.72746786e-01, -1.97897489e-01, -6.05297314e-01,\n",
       "         -7.45384018e-01, -1.10431526e+00,  1.01105006e+00],\n",
       "        [ 2.39325642e-01, -3.52275765e-01,  1.60639583e-01,\n",
       "         -3.84060174e-01,  6.89091566e-01,  7.63916743e-02,\n",
       "          4.35273739e-01,  9.05538514e-01,  1.01105006e+00],\n",
       "        [-3.01758418e-01,  6.49508441e-01, -5.98747538e-01,\n",
       "         -3.84060174e-01,  4.58614095e-01, -5.10177920e-01,\n",
       "         -2.36080672e-01,  9.05538514e-01,  1.01105006e+00],\n",
       "        [ 1.05095173e+00, -1.95513049e+00, -9.78441098e-01,\n",
       "         -3.37273727e-01,  9.05600706e-01,  8.76979905e-01,\n",
       "          9.67727237e-01,  9.05538514e-01,  1.01105006e+00],\n",
       "        [ 5.09867672e-01, -4.19061378e-01,  5.40333144e-01,\n",
       "         -3.37273727e-01,  4.93534924e-01, -3.99205294e-01,\n",
       "         -2.77293031e-02,  9.05538514e-01,  1.01105006e+00]]))"
      ]
     },
     "execution_count": 943,
     "metadata": {},
     "output_type": "execute_result"
    }
   ],
   "source": [
    "scaler=StandardScaler()\n",
    "X_train_scaled=scaler.fit_transform(X_train)\n",
    "X_test_scaled=scaler.transform(X_test)\n",
    "X_train.shape,X_test.shape,X_train_scaled,X_test_scaled"
   ]
  },
  {
   "cell_type": "code",
   "execution_count": 944,
   "id": "576c5674",
   "metadata": {},
   "outputs": [
    {
     "data": {
      "text/plain": [
       "Text(0.5, 1.0, 'Boxplot after Scalling')"
      ]
     },
     "execution_count": 944,
     "metadata": {},
     "output_type": "execute_result"
    },
    {
     "data": {
      "image/png": "[encoded data removed]",
      "text/plain": [
       "<Figure size 720x576 with 2 Axes>"
      ]
     },
     "metadata": {
      "needs_background": "light"
     },
     "output_type": "display_data"
    }
   ],
   "source": [
    "plt.subplots(figsize=(10,8))\n",
    "plt.subplot(1,2,1)\n",
    "sns.boxplot(data=X_train)\n",
    "plt.title('Boxplot before Scalling')\n",
    "plt.subplot(1,2,2)\n",
    "sns.boxplot(data=X_train_scaled)\n",
    "plt.title('Boxplot after Scalling')"
   ]
  },
  {
   "cell_type": "markdown",
   "id": "d40512f9",
   "metadata": {},
   "source": [
    "# Regression\n"
   ]
  },
  {
   "cell_type": "markdown",
   "id": "bb3b2e56",
   "metadata": {},
   "source": [
    "### 1. Linear Regression"
   ]
  },
  {
   "cell_type": "code",
   "execution_count": 945,
   "id": "f38afdf8",
   "metadata": {},
   "outputs": [
    {
     "data": {
      "text/plain": [
       "(0.9847657384266951, 0.6742766873791602)"
      ]
     },
     "execution_count": 945,
     "metadata": {},
     "output_type": "execute_result"
    }
   ],
   "source": [
    "L_Regressor= LinearRegression()\n",
    "L_Regressor.fit(X_train_scaled,y_train)\n",
    "y_pred=L_Regressor.predict(X_test_scaled)\n",
    "li_r2_score=r2_score(y_test,y_pred)\n",
    "li_mse=mean_squared_error(y_test,y_pred)\n",
    "li_r2_score,li_mse"
   ]
  },
  {
   "cell_type": "code",
   "execution_count": 946,
   "id": "6a92869c",
   "metadata": {},
   "outputs": [
    {
     "data": {
      "text/plain": [
       "<matplotlib.collections.PathCollection at 0x2ab4d2526d0>"
      ]
     },
     "execution_count": 946,
     "metadata": {},
     "output_type": "execute_result"
    },
    {
     "data": {
      "image/png": "[encoded data removed]",
      "text/plain": [
       "<Figure size 432x288 with 1 Axes>"
      ]
     },
     "metadata": {
      "needs_background": "light"
     },
     "output_type": "display_data"
    }
   ],
   "source": [
    "plt.scatter(y_pred,y_test)"
   ]
  },
  {
   "cell_type": "code",
   "execution_count": 947,
   "id": "e0bcc558",
   "metadata": {},
   "outputs": [
    {
     "data": {
      "text/plain": [
       "<BarContainer object of 9 artists>"
      ]
     },
     "execution_count": 947,
     "metadata": {},
     "output_type": "execute_result"
    },
    {
     "data": {
      "image/png": "[encoded data removed]",
      "text/plain": [
       "<Figure size 432x288 with 1 Axes>"
      ]
     },
     "metadata": {
      "needs_background": "light"
     },
     "output_type": "display_data"
    }
   ],
   "source": [
    "li_coef=list(L_Regressor.coef_)\n",
    "li_coef\n",
    "plt.bar(X_train.columns,li_coef,color='b')"
   ]
  },
  {
   "cell_type": "markdown",
   "id": "26e7adc2",
   "metadata": {},
   "source": [
    "### Lasso Regression"
   ]
  },
  {
   "cell_type": "code",
   "execution_count": 948,
   "id": "f17e92bf",
   "metadata": {},
   "outputs": [
    {
     "data": {
      "text/plain": [
       "(0.9492020263112388, 2.248345891897475)"
      ]
     },
     "execution_count": 948,
     "metadata": {},
     "output_type": "execute_result"
    }
   ],
   "source": [
    "Lso_Regressor= Lasso()\n",
    "Lso_Regressor.fit(X_train_scaled,y_train)\n",
    "y_pred=Lso_Regressor.predict(X_test_scaled)\n",
    "la_r2_score= r2_score(y_test,y_pred)\n",
    "la_mse= mean_squared_error(y_pred,y_test)\n",
    "la_r2_score,la_mse"
   ]
  },
  {
   "cell_type": "code",
   "execution_count": 949,
   "id": "2c132cad",
   "metadata": {},
   "outputs": [
    {
     "data": {
      "text/plain": [
       "<matplotlib.collections.PathCollection at 0x2ab4d14b670>"
      ]
     },
     "execution_count": 949,
     "metadata": {},
     "output_type": "execute_result"
    },
    {
     "data": {
      "image/png": "[encoded data removed]",
      "text/plain": [
       "<Figure size 432x288 with 1 Axes>"
      ]
     },
     "metadata": {
      "needs_background": "light"
     },
     "output_type": "display_data"
    }
   ],
   "source": [
    "plt.scatter(y_test,y_pred)"
   ]
  },
  {
   "cell_type": "code",
   "execution_count": 950,
   "id": "9a2f2ad3",
   "metadata": {},
   "outputs": [
    {
     "data": {
      "text/plain": [
       "<BarContainer object of 9 artists>"
      ]
     },
     "execution_count": 950,
     "metadata": {},
     "output_type": "execute_result"
    },
    {
     "data": {
      "image/png": "[encoded data removed]",
      "text/plain": [
       "<Figure size 432x288 with 1 Axes>"
      ]
     },
     "metadata": {
      "needs_background": "light"
     },
     "output_type": "display_data"
    }
   ],
   "source": [
    "lasso_coef=list(Lso_Regressor.coef_)\n",
    "lasso_coef\n",
    "plt.bar(X_train.columns,lasso_coef,color='r')"
   ]
  },
  {
   "cell_type": "markdown",
   "id": "44769505",
   "metadata": {},
   "source": [
    "### Cross Validation lasso"
   ]
  },
  {
   "cell_type": "code",
   "execution_count": 951,
   "id": "be6e341a",
   "metadata": {},
   "outputs": [
    {
     "data": {
      "text/plain": [
       "(2.248345891897475, 0.9264742326805692)"
      ]
     },
     "execution_count": 951,
     "metadata": {},
     "output_type": "execute_result"
    }
   ],
   "source": [
    "lcv_regressor= LassoCV(cv=5)\n",
    "lcv_regressor.fit(X_train_scaled,y_train)\n",
    "lcv_regressor.predict(X_test_scaled)\n",
    "lcv_r2_score= r2_score(y_pred,y_test)\n",
    "lcv_mse=mean_squared_error(y_pred,y_test)\n",
    "lcv_mse,lcv_r2_score"
   ]
  },
  {
   "cell_type": "code",
   "execution_count": 952,
   "id": "a833af4f",
   "metadata": {},
   "outputs": [
    {
     "data": {
      "text/plain": [
       "<BarContainer object of 9 artists>"
      ]
     },
     "execution_count": 952,
     "metadata": {},
     "output_type": "execute_result"
    },
    {
     "data": {
      "image/png": "[encoded data removed]",
      "text/plain": [
       "<Figure size 432x288 with 1 Axes>"
      ]
     },
     "metadata": {
      "needs_background": "light"
     },
     "output_type": "display_data"
    }
   ],
   "source": [
    "lcv_coef=list(lcv_regressor.coef_)\n",
    "plt.bar(X_train.columns,lcv_coef,color='green')"
   ]
  },
  {
   "cell_type": "code",
   "execution_count": 953,
   "id": "32d2dd78",
   "metadata": {},
   "outputs": [
    {
     "data": {
      "text/plain": [
       "{'alphas': None,\n",
       " 'copy_X': True,\n",
       " 'cv': 5,\n",
       " 'eps': 0.001,\n",
       " 'fit_intercept': True,\n",
       " 'max_iter': 1000,\n",
       " 'n_alphas': 100,\n",
       " 'n_jobs': None,\n",
       " 'normalize': 'deprecated',\n",
       " 'positive': False,\n",
       " 'precompute': 'auto',\n",
       " 'random_state': None,\n",
       " 'selection': 'cyclic',\n",
       " 'tol': 0.0001,\n",
       " 'verbose': False}"
      ]
     },
     "execution_count": 953,
     "metadata": {},
     "output_type": "execute_result"
    }
   ],
   "source": [
    "lcv_regressor.get_params()"
   ]
  },
  {
   "cell_type": "markdown",
   "id": "40439012",
   "metadata": {},
   "source": [
    "### RidgeCV Regression"
   ]
  },
  {
   "cell_type": "code",
   "execution_count": 954,
   "id": "e56dfcfe",
   "metadata": {},
   "outputs": [
    {
     "name": "stdout",
     "output_type": "stream",
     "text": [
      "Mean  error <function mean_squared_error at 0x000002AB39100550>\n",
      "R2 Score 0.9842993364555513\n"
     ]
    },
    {
     "data": {
      "image/png": "[encoded data removed]",
      "text/plain": [
       "<Figure size 432x288 with 1 Axes>"
      ]
     },
     "metadata": {
      "needs_background": "light"
     },
     "output_type": "display_data"
    }
   ],
   "source": [
    "ridgecv=RidgeCV(cv=5)\n",
    "ridgecv.fit(X_train_scaled,y_train)\n",
    "y_pred=ridgecv.predict(X_test_scaled)\n",
    "plt.scatter(y_test,y_pred)\n",
    "score=r2_score(y_test,y_pred)\n",
    "mse=mean_squared_error(y_pred,y_test)\n",
    "print(\"Mean  error\", mean_squared_error)\n",
    "print(\"R2 Score\", score)"
   ]
  },
  {
   "cell_type": "code",
   "execution_count": 955,
   "id": "9ffae943",
   "metadata": {},
   "outputs": [
    {
     "data": {
      "text/plain": [
       "<BarContainer object of 9 artists>"
      ]
     },
     "execution_count": 955,
     "metadata": {},
     "output_type": "execute_result"
    },
    {
     "data": {
      "image/png": "[encoded data removed]",
      "text/plain": [
       "<Figure size 432x288 with 1 Axes>"
      ]
     },
     "metadata": {
      "needs_background": "light"
     },
     "output_type": "display_data"
    }
   ],
   "source": [
    "ridgecv_coef=list(ridgecv.coef_)\n",
    "plt.bar(X_train.columns,ridgecv_coef,color='k')"
   ]
  },
  {
   "cell_type": "markdown",
   "id": "879d57f7",
   "metadata": {},
   "source": [
    "### Elastic_Net= Lasso+ Ridge\n"
   ]
  },
  {
   "cell_type": "code",
   "execution_count": 956,
   "id": "05aa2e6e",
   "metadata": {},
   "outputs": [
    {
     "data": {
      "text/plain": [
       "(0.9842993364555513, 0.6949198918152052)"
      ]
     },
     "execution_count": 956,
     "metadata": {},
     "output_type": "execute_result"
    }
   ],
   "source": [
    "el_regressor= ElasticNet()\n",
    "el_regressor.fit(X_train_scaled,y_train)\n",
    "el_regressor.predict(X_test_scaled)\n",
    "el_score=r2_score(y_test,y_pred)\n",
    "el_mse=mean_squared_error(y_pred,y_test)\n",
    "el_score,el_mse"
   ]
  },
  {
   "cell_type": "code",
   "execution_count": 957,
   "id": "6dab5bab",
   "metadata": {},
   "outputs": [
    {
     "data": {
      "text/plain": [
       "<BarContainer object of 9 artists>"
      ]
     },
     "execution_count": 957,
     "metadata": {},
     "output_type": "execute_result"
    },
    {
     "data": {
      "image/png": "[encoded data removed]",
      "text/plain": [
       "<Figure size 432x288 with 1 Axes>"
      ]
     },
     "metadata": {
      "needs_background": "light"
     },
     "output_type": "display_data"
    }
   ],
   "source": [
    "el_coef=el_regressor.coef_\n",
    "plt.bar(X_train.columns,el_coef,color='m')"
   ]
  },
  {
   "cell_type": "code",
   "execution_count": 958,
   "id": "47134712",
   "metadata": {},
   "outputs": [],
   "source": [
    "x=X_train.columns\n",
    "y1=li_coef\n",
    "y2=lasso_coef\n",
    "y3=lcv_coef\n",
    "y4=ridgecv_coef\n",
    "y5=el_coef\n",
    "width=0.2"
   ]
  },
  {
   "cell_type": "code",
   "execution_count": 959,
   "id": "c823598e",
   "metadata": {},
   "outputs": [
    {
     "data": {
      "image/png": "[encoded data removed]",
      "text/plain": [
       "<Figure size 720x576 with 1 Axes>"
      ]
     },
     "metadata": {
      "needs_background": "light"
     },
     "output_type": "display_data"
    }
   ],
   "source": [
    "import numpy as np\n",
    "import matplotlib.pyplot as plt\n",
    "\n",
    "x = X_train.columns\n",
    "y1 = li_coef\n",
    "y2 = lasso_coef\n",
    "y3 = lcv_coef\n",
    "y4 = ridgecv_coef\n",
    "y5 = el_coef\n",
    "\n",
    "bar_width = 0.15\n",
    "index = np.arange(len(x))\n",
    "plt.figure(figsize=(10,8))\n",
    "\n",
    "plt.bar(index, y1, bar_width, label='li_coef')\n",
    "plt.bar(index + bar_width, y2, bar_width, label='lasso_coef')\n",
    "plt.bar(index + 2 * bar_width, y3, bar_width, label='lcv_coef')\n",
    "plt.bar(index + 3 * bar_width, y4, bar_width, label='ridgecv_coef')\n",
    "plt.bar(index + 4 * bar_width, y5, bar_width, label='el_coef')\n",
    "\n",
    "plt.xticks(index + 2 * bar_width, x, rotation=90)\n",
    "\n",
    "\n",
    "plt.xlabel('Features')\n",
    "plt.ylabel('Coefficient Values')\n",
    "plt.title('Grouped Bar Graph of Coefficients')\n",
    "plt.legend()\n",
    "\n",
    "\n",
    "plt.tight_layout(pad=4)\n",
    "plt.show()\n"
   ]
  }
 ],
 "metadata": {
  "kernelspec": {
   "display_name": "Python 3 (ipykernel)",
   "language": "python",
   "name": "python3"
  },
  "language_info": {
   "codemirror_mode": {
    "name": "ipython",
    "version": 3
   },
   "file_extension": ".py",
   "mimetype": "text/x-python",
   "name": "python",
   "nbconvert_exporter": "python",
   "pygments_lexer": "ipython3",
   "version": "3.9.12"
  }
 },
 "nbformat": 4,
 "nbformat_minor": 5
}
